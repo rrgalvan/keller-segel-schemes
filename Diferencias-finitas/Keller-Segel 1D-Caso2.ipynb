{
 "cells": [
  {
   "cell_type": "markdown",
   "metadata": {},
   "source": [
    "# Keller-Segel Equation 1D\n",
    "\n",
    "# Case 2: \n",
    "\n",
    "We try to approximate the solution of\n",
    "\\begin{align}\n",
    "\\partial_t u - \\nu \\partial^2_{xx} u + \\beta \\partial_{x} u &= f \\quad\\text{in } \\Omega=(a,b) \\times (0,T),\n",
    "\\\\\n",
    "\\partial_t u \\cdot n &= 0\\quad\\text{on } \\partial\\Omega,\n",
    "\\end{align}\n",
    "where $(a,b)\\subset\\mathbb{R}$ is an interval, $T>0$ is a given final time and $f\\in C([a,b] \\times (0,T))$.\n",
    "\n",
    "We are going to consider $\\beta = (\\beta_0, \\beta_1, \\ldots, \\beta_n)=v$.\n",
    "\n",
    "Let us consider the mesh $x_i=a+h i$, for  $i=0,...,n+1$, with $h=(b-a)/(n+2)$, and the time partition $t_m = km$, $m=0,...,M$ whith $k=T/M$.\n",
    "\n",
    "We define the problem: given $u_{i,j}^{m-1}$, $m\\ge 1$, find $u_{i}^m \\simeq u(x_i, t_m)$ such that\n",
    "\n",
    "$$\n",
    "\\frac 1 k u_{i}^m \n",
    "- \\nu \\frac{ u_{i+1}^m - 2u_{i}^m + u_{i-1}^m}{h^2} + \\frac{\\beta_{i+1}^m u_{i+1}^m - \\beta_i^m u_i^m}{h}\n",
    "=\n",
    "f^m_{i} + \\frac 1 k u_{i}^{m-1},\n",
    "$$\n",
    "or\n",
    "$$\n",
    "\\Big(\\frac 1 k + \\frac{2\\nu}{h^2} - \\frac{\\beta_i^m}{h} \\Big) u_{i}^m \n",
    "- \\Big( \\frac{\\nu}{h^2} - \\frac{\\beta_{i+1}^m }{h} \\Big) u_{i+1}^m\n",
    "- \\frac{\\nu}{h^2} u_{i-1}^m\n",
    "=\n",
    "f^m_{i} + \\frac 1 k u_{i}^{m-1},\n",
    "$$\n",
    "or\n",
    "$$\n",
    "\\Big(1+ 2 \\frac {k\\nu}{h^2} - \\beta_i^m\n",
    "\\frac{k}{h} \\Big) u_{i}^m \n",
    "- \\Big( \\frac {k\\nu}{h^2} - \\beta_{i+1}^m \\frac{k}{h} \\Big) u_{i+1}^m\n",
    "- \\frac {k\\nu}{h^2} \\, u_{i-1}^m\n",
    "=\n",
    "k f^m_{i} + u_{i}^{m-1},\n",
    "$$\n",
    "\n",
    "It can be written as the system\n",
    "$AU=F$ with \n",
    "\n",
    "\\begin{aligned}\n",
    "U=( u^m_{1},u^m_{2},...,u^m_{n}),\n",
    "\\\\\n",
    "F_{i}=k f^m_{i} + u_{i}^{m-1}\n",
    "\\end{aligned}\n",
    "and\n",
    "$$\n",
    "A=\n",
    "\\begin{pmatrix}\n",
    "   a & -b &  0 &  0 & \\dots & & & 0 & 0 \\\\\n",
    "  -c &  a & -b &  0 & \\dots & & & 0 & 0\\\\\n",
    "   0 & -c &  a & -b & \\dots & & & 0 & 0 \\\\\n",
    "   \\vdots &    & \\ddots & \\ddots & \\ddots & \\\\\n",
    "   0 & 0 & \\dots & -c & a  & -b \\\\\n",
    "   0 & 0 &  0 & \\dots & -c & a  & -b \\\\\n",
    "     & & &&    & \\ddots & \\ddots & \\ddots & \\\\\n",
    "   0 & \\dots & &  & & & 0 & a & -b \\\\ \n",
    "   0 & \\dots & &  & & &  & -c & a \\\\\n",
    " \\end{pmatrix},\n",
    "$$\n",
    "siendo:\n",
    "\\begin{align*}\n",
    "  a&= 1 + 2\\frac {k\\nu}{h^2} - \\beta_i^m \\frac{k}{h}, \\\\\n",
    "  b&=\\frac {k\\nu}{h^2} - \\beta_{i+1}^m \\frac{k}{h}, \\\\\n",
    "  c&=\\frac {k\\nu}{h^2}.\n",
    "\\end{align*}\n",
    "El vector diagonal $(d,d,\\dots,d)$ está separado exactamente $n$\n",
    "posiciones desde la diagonal de la matriz.\n"
   ]
  },
  {
   "cell_type": "markdown",
   "metadata": {},
   "source": [
    "#### Boundary conditions\n",
    "\n",
    "Let $\\Gamma_l=\\{a\\}$, $\\Gamma_r=\\{b\\}$. Homogeneous Neumann b.c. can be approximated as follows:\n",
    "\n",
    "* On $\\Gamma_l$: $\\partial_x u(a,t_m) \\cdot n = \\partial_x u(a,t_m) \\cdot (-1) = -\\partial_x   u(a,t_m) \\simeq -\\frac{u^m_{1}-u^m_{0}}{h}=0$,\n",
    "* On $\\Gamma_r$: $\\nabla u(b,y_j,t_m) \\times n = \\nabla u(b,y_j,t_m) \\times (1,0) = \\partial_x   u(b,y_j,t_m) \\simeq \\frac{u^m_{n+1,j}-u^m_{n,j}}{h}=0$,\n",
    "\n",
    "Then, boundary conditions can be approximated by defining, for each $m\\ge 1$, the values $u^m_{0,j}=u^m_{1,j}$, $u^m_{n+1,j}=u^m_{n,j}$, $u^m_{i,0}=u^m_{i,1}$, $u^m_{i,n+1}=u^m_{i,n}$, $i,j=0,\\dots,n+1$"
   ]
  },
  {
   "cell_type": "code",
   "execution_count": 1,
   "metadata": {},
   "outputs": [],
   "source": [
    "import numpy as np\n",
    "import math\n",
    "import matplotlib.pyplot as mpl\n",
    "from numpy import diag, ones, linspace, array, reshape\n",
    "from numpy.linalg import solve"
   ]
  },
  {
   "cell_type": "code",
   "execution_count": 2,
   "metadata": {},
   "outputs": [],
   "source": [
    "def convection_diffusion_equation_neumann_1d(f, U0, v, k, h, t_act, x, nx_intervals, nt_intervals, \n",
    "                             a, b, T, nu, verbosity):\n",
    "    \"\"\"\n",
    "    Heat equatin with Homogeneous Neumann Boundary Conditions.\n",
    "    * f: RHS\n",
    "    * u_init: Initial function, u_init(x)\n",
    "    * nu: Viscosity coefficient\n",
    "    * a, b: interval (domain = (a,b))\n",
    "    * T: Max. time (time interval = (0,T))\n",
    "    * nx: space discretization, a=x_0,x_1,...,x_{nx}=b$\n",
    "    * nt: time discretization, 0=t_0,t_1,...,t_{nt}=T$\n",
    "    * v: vector with convective coefficient\n",
    "    \"\"\"\n",
    "    \n",
    "    # Space and time discretization\n",
    "    nx_points = nx = nx_intervals+1\n",
    "    #h = (b-a)/nx_intervals # Space mesh size\n",
    "    #x = linspace(a, b, nx_points) # a = x_0, ..., x_{nx} = b\n",
    "    \n",
    "    #k = T/nt_intervals # Time step\n",
    "    #t = linspace(0, T, nt_intervals+1) # 0 = t_0, t_1, ..., t_{nt} = T  \n",
    "\n",
    "    #if(verbosity>1):\n",
    "    #    print(\"x=\",x)\n",
    "    #    print(\"t=\",t)\n",
    "    \n",
    "    c0 = k/h  # Diagonal coefficient a_{ii}\n",
    "    c01 = 1 + 2*k*nu/h**2\n",
    "    c1 = k/h        # -c1 are the extra-diagonal coefficients\n",
    "    c11 = k*nu/h**2\n",
    "    c2 = k*nu/h**2\n",
    "    \n",
    "    # Matrix\n",
    "    n=nx  # n_interior_x_points*n_interior_x_points\n",
    "    w = ones(NX)\n",
    "    for i in range(1,NX+1):\n",
    "        w[i-1]=v[i]  \n",
    "    \n",
    "    vec0 = v\n",
    "    vec01 = ones(n)\n",
    "    vec1 = w\n",
    "    vec2 = ones(n-1)\n",
    "    \n",
    "    A = c0 * diag( vec0 ) + c01 * diag(vec01) \\\n",
    "            - c1 * diag( vec1, +1 ) - c11 * diag( vec2, +1) \\\n",
    "            - c2 * diag( vec2, -1 )\n",
    "\n",
    "    # Set Neumann boundary c.\n",
    "    A[0,0] = A[-1,-1] = 1\n",
    "    A[0,1] = A[-1,-2] = -1\n",
    "    \n",
    "    if(verbosity>0): \n",
    "        print(\"nx=%i (h=%2.2f), nt=%i (k=%2.2f), n=(nx+1)^2=%i\" % \n",
    "              (nx, h, nt_intervals, k, n) )\n",
    "        print(\"A=\\n\", A, \" \", end=\"\" )\n",
    "        print( np.shape(A) )\n",
    "    \n",
    "    # Time iterations)\n",
    "   \n",
    "    #U0 = u_init(x)\n",
    "    #if(verbosity>0):        \n",
    "    #    print(\"U0 =\", U0, \" \", np.shape(U0) )    \n",
    "    #solution = [ U0 ]\n",
    "\n",
    "    #for m in range(1,nt_intervals+1):  # m=1, 1,..., nt\n",
    "    #   current_t = t[m]\n",
    "    #    if(verbosity>0):\n",
    "    #        print(\"m=%i, current_t=%.2f\" % (m,current_t))\n",
    "        \n",
    "    F = k*f(x, t_act) + U0\n",
    "        \n",
    "        # Set homogneous Neumann boundary c.\n",
    "    F[0] = F[-1] = 0\n",
    "      \n",
    "    if(verbosity>0):        \n",
    "        print(\"F=\", F, \" \", end=\"\" )\n",
    "        print( np.shape(F) )\n",
    "\n",
    "        # 3. Resolver sistema\n",
    "    \n",
    "    U = solve(A, F)\n",
    "    if(verbosity>0):        \n",
    "        print(\"U =\", U, \" \", np.shape(U) )\n",
    "        from numpy import linalg as LA\n",
    "        print(\"||U||_2 =\", LA.norm(U))\n",
    "        #U0 = U\n",
    "        #solution.append(U)\n",
    "        \n",
    "    return U"
   ]
  },
  {
   "cell_type": "code",
   "execution_count": 3,
   "metadata": {},
   "outputs": [],
   "source": [
    "def reaction_diffusion_equation_neumann_1d(f, U0, v, k, h, t_act, x, nx_intervals, nt_intervals, \n",
    "                             a, b, T, nu, verbosity, k1, k2):\n",
    "    \"\"\"\n",
    "    Heat equatin with Homogeneous Neumann Boundary Conditions.\n",
    "    * f: RHS\n",
    "    * u_init: Initial function, u_init(x)\n",
    "    * nu: Viscosity coefficient\n",
    "    * a, b: interval (domain = (a,b))\n",
    "    * T: Max. time (time interval = (0,T))\n",
    "    * nx: space discretization, a=x_0,x_1,...,x_{nx}=b$\n",
    "    * nt: time discretization, 0=t_0,t_1,...,t_{nt}=T$\n",
    "    * k1: Death coefficient (reaction)\n",
    "    * k2: Growth coefficient (reaction) \n",
    "    * v: Concentration of the other equation\n",
    "    \"\"\"\n",
    "    \n",
    "    # Space and time discretization\n",
    "    nx_points = nx = nx_intervals+1\n",
    "    #h = (b-a)/nx_intervals # Space mesh size\n",
    "    #x = linspace(a, b, nx_points) # a = x_0, ..., x_{nx} = b\n",
    "    \n",
    "    #k = T/nt_intervals # Time step\n",
    "    #t = linspace(0, T, nt_intervals+1) # 0 = t_0, t_1, ..., t_{nt} = T  \n",
    "\n",
    "    #if(verbosity>1):\n",
    "    #    print(\"x=\",x)\n",
    "    #    print(\"t=\",t)\n",
    "    \n",
    "    c0 = 1 + 2*(k*nu)/h**2-k*k1  # Diagonal coefficient a_{ii}\n",
    "    c1 = k*nu/h**2          # -c1 are the extra-diagonal coefficients\n",
    "    \n",
    "    # Matrix\n",
    "    n=nx  # n_interior_x_points*n_interior_x_points\n",
    "    ones0 = ones(n)\n",
    "    ones1 = ones(n-1)\n",
    "    A = c0 * diag( ones0 ) \\\n",
    "            - c1 * diag( ones1, +1 ) \\\n",
    "            - c1 * diag( ones1, -1 )\n",
    "\n",
    "    # Set Neumann boundary c.\n",
    "    A[0,0] = A[-1,-1] = 1\n",
    "    A[0,1] = A[-1,-2] = -1\n",
    "    \n",
    "    if(verbosity>0): \n",
    "        print(\"nx=%i (h=%2.2f), nt=%i (k=%2.2f), n=(nx+1)^2=%i\" % \n",
    "              (nx, h, nt_intervals, k, n) )\n",
    "        print(\"A=\\n\", A, \" \", end=\"\" )\n",
    "        print( np.shape(A) )\n",
    "    \n",
    "    # Time iterations)\n",
    "   \n",
    "    #U0 = u_init(x)\n",
    "    #if(verbosity>0):        \n",
    "    #    print(\"U0 =\", U0, \" \", np.shape(U0) )    \n",
    "    #solution = [ U0 ]\n",
    "\n",
    "    #for m in range(1,nt_intervals+1):  # m=1, 1,..., nt\n",
    "    #    current_t = t[m]\n",
    "    #    if(verbosity>0):\n",
    "    #        print(\"m=%i, current_t=%.2f\" % (m,current_t))\n",
    "        \n",
    "    F = k*f(x, t_act) + U0 - k*k2*v\n",
    "        \n",
    "        # Set homogneous Neumann boundary c.\n",
    "    F[0] = F[-1] = 0\n",
    "      \n",
    "    if(verbosity>0):        \n",
    "        print(\"F=\", F, \" \", end=\"\" )\n",
    "        print( np.shape(F) )\n",
    "\n",
    "        # 3. Resolver sistema\n",
    "    \n",
    "    U = solve(A, F)\n",
    "    if(verbosity>0):        \n",
    "        print(\"U =\", U, \" \", np.shape(U) )\n",
    "        from numpy import linalg as LA\n",
    "        print(\"||U||_2 =\", LA.norm(U))\n",
    "    #U0 = U\n",
    "    #solution.append(U)\n",
    "        \n",
    "    return U"
   ]
  },
  {
   "cell_type": "code",
   "execution_count": 5,
   "metadata": {},
   "outputs": [],
   "source": [
    "def ks_progres_1d(f, u_init, v_init, nx_intervals=10, nt_intervals=2, a=0, b=1, T=1, nu=1, verbosity=0, k1=1, k2=1):\n",
    "    \n",
    "    \"\"\"\n",
    "    Heat equatin with Homogeneous Neumann Boundary Conditions.\n",
    "    * f: RHS\n",
    "    * u_init: Initial function, u_init(x)\n",
    "    * nu: Viscosity coefficient\n",
    "    * a, b: interval (domain = (a,b))\n",
    "    * T: Max. time (time interval = (0,T))\n",
    "    * nx: space discretization, a=x_0,x_1,...,x_{nx}=b$\n",
    "    * nt: time discretization, 0=t_0,t_1,...,t_{nt}=T$\n",
    "    * k1: Death coefficient (reaction)\n",
    "    * k2: Growth coefficient (reaction) \n",
    "    * v: Concentration of the other equation. Now it has no importance. We assume that is a constant\n",
    "    \"\"\"\n",
    "    \n",
    "    nx_points = nx_intervals+1\n",
    "    h = (b-a)/nx_intervals\n",
    "    x = linspace(a, b, nx_points)\n",
    "    k = T/nt_intervals\n",
    "    t = linspace(0, T, nt_intervals+1)\n",
    "    # def u0(x):return exp(-coef*(x-(a+b)/2)) # Cambiar función\n",
    "    # def v0(x): return exp(-coef*(x-(a+b)/2))\n",
    "    # V=zeros(n+1)\n",
    "    # V0=zeros(n+1)\n",
    "    # U=zeros(n+1)\n",
    "    # U0=zeros(n+1)\n",
    "\n",
    "    V0 = v_init(x)\n",
    "    U0 = u_init(x)\n",
    "    \n",
    "    if(verbosity>0):\n",
    "        print(\"U0 =\", U0, \" \", np.shape(U0) )\n",
    "\n",
    "    # for i in range(0, n+1):\n",
    "    #    v1[i]=v0(x[i])\n",
    "\n",
    "    # for i in range(0, n+1):\n",
    "    #    u1[i]=u0(x[i])\n",
    "\n",
    "    # listu=[U0]\n",
    "    # listv=[V0]\n",
    "    \n",
    "    solution_U = [ U0 ]\n",
    "    solution_V = [ V0 ]\n",
    "\n",
    "    for j in range(0, nt_intervals+1):\n",
    "        V = reaction_diffusion_equation_neumann_1d(f, V0, U0, k, h, t[j], x, nx_intervals, nt_intervals, a, b, T, nu, verbosity, k1, k2)\n",
    "        if(verbosity>0):\n",
    "            print(\"V=\", V, \" \", np.shape(V))\n",
    "        # listv.extend([V])\n",
    "        U = convection_diffusion_equation_neumann_1d(f, U0, V, k, h, t[j], x, nx_intervals, nt_intervals, a, b, T, nu, verbosity)\n",
    "        if(verbosity>0):\n",
    "            print(\"U=\", U, \" \", np.shape(U))\n",
    "        # listu.extend([U])\n",
    "        U0=U\n",
    "        V0=V\n",
    "        solution_U.append(U)        \n",
    "        solution_V.append(V)\n",
    "\n",
    "        # U=zeros(n+1)\n",
    "        # V=zeros(n+1)\n",
    "    return x, solution_U, solution_V"
   ]
  },
  {
   "cell_type": "markdown",
   "metadata": {},
   "source": [
    "Define plotting function, RHS function f and initial condition\n",
    "\n",
    "We provide two initial conditions for testing:\n",
    "1. $u_0(x) = C$ (constant). The exact solution is $u(x,t)=u_0$ for all $t>0$.\n",
    "2. $u_0(x) \\ge 0$ is defined as a Gaussian (bell) function. Like for any initial condition, the function must converge (in $L^2$ norm) to a constant, $C_\\infty\\ge 0$, when $t\\to\\infty$. Specifically, it is not diffcult to show that\n",
    "$\n",
    "\\| u(t) - u_0 \\|_{L^2(\\Omega)} \\to 0\n",
    "$\n",
    "as $t\\to\\infty$, where $u_\\infty$ is the mean oif $u$ in $\\Omega$, i.e.\n",
    "$$\n",
    "u_\\infty= \\frac 1{|\\Omega|} \\int_\\Omega u_0(x) dx \\in\\mathbb R\n",
    "$$\n",
    "where $|\\Omega|$ is the meassure of $\\Omega$."
   ]
  },
  {
   "cell_type": "code",
   "execution_count": 12,
   "metadata": {},
   "outputs": [],
   "source": [
    "def my_plot(x, y, t_iter):\n",
    "    d = t_iter\n",
    "    l = \"$u(x,t_i),\\quad i=%i$\" % (t_iter)\n",
    "    mpl.plot(x, y, lw=2, dashes=(5, d), label=l)\n",
    "    \n",
    "mpl.rcParams['figure.dpi'] = 100\n",
    "\n",
    "# --------------------------------------------    \n",
    "f = lambda x, t: np.zeros_like(x)\n",
    "\n",
    "# Initial solution 1: u_0=cte (then u(x,t)=cte forall t>0)\n",
    "u_cte = lambda x: 5*np.ones_like(x)\n",
    "\n",
    "# Initial solution 2: u_0 = Gaussian function\n",
    "C_gauss = 10\n",
    "u_gauss = lambda x: np.exp(-C_gauss*(x**2))\n",
    "C_gauss = 20\n",
    "v_gauss = lambda x: np.exp(-C_gauss*(x**2))"
   ]
  },
  {
   "cell_type": "code",
   "execution_count": 13,
   "metadata": {},
   "outputs": [],
   "source": [
    "NT = 2\n",
    "NX = 10\n",
    "X0 = -1\n",
    "X1 = 1\n",
    "x, u, v = ks_progres_1d(f, u_init=u_gauss, v_init=v_gauss, \n",
    "                                    nx_intervals=NX, nt_intervals=NT, \n",
    "                                    a=X0, b=X1, T=1)"
   ]
  },
  {
   "cell_type": "code",
   "execution_count": 14,
   "metadata": {},
   "outputs": [
    {
     "data": {
      "image/png": "[encoded data removed]",
      "text/plain": [
       "<Figure size 600x400 with 1 Axes>"
      ]
     },
     "metadata": {
      "needs_background": "light"
     },
     "output_type": "display_data"
    }
   ],
   "source": [
    "NT = 6\n",
    "NX = 50\n",
    "X0 = -1\n",
    "X1 = 1\n",
    "x, u, v = ks_progres_1d(f, u_init=u_gauss, v_init=v_gauss, \n",
    "                                    nx_intervals=NX, nt_intervals=NT, \n",
    "                                    a=X0, b=X1, T=1, verbosity=0)\n",
    "\n",
    "for i in range(NT):\n",
    "    my_plot(x, u[i], i)\n",
    "    #mpl.show()\n",
    "#u_infty = quad(u[0], x)/(X1-X0) # Media de u_0 en [a,b]\n",
    "#mpl.plot(x, u_infty*np.ones_like(x), \"-.\", label=\"$u_\\infty$\")\n",
    "#mpl.grid()    \n",
    "#mpl.legend()"
   ]
  },
  {
   "cell_type": "markdown",
   "metadata": {},
   "source": [
    "### Compruebo que $\\|u(i)-u_\\infty\\| \\to 0$"
   ]
  },
  {
   "cell_type": "code",
   "execution_count": 89,
   "metadata": {},
   "outputs": [
    {
     "name": "stdout",
     "output_type": "stream",
     "text": [
      " Intervalo [-1.00,1.00], aproximación de la integral de f(x)=1:  1.960000\n"
     ]
    }
   ],
   "source": [
    "def quad(y, x):\n",
    "    \"\"\"\n",
    "    Fórmula de cuadratura de los trapecios compuesta para aproximar la integral\n",
    "    de la función dada por los valores y_0, y_1, ..., y_{n-1} sobre los \n",
    "    nodos x_0, x_1,... x_{n-1}\n",
    "    \"\"\"\n",
    "    h = x[1]-x[0]\n",
    "    sum = np.sum(y[1:-2]) # f(x_1) + ... + f(x_{n-2})\n",
    "    return h*( y[0]/2 + sum + y[-1]/2 )\n",
    "\n",
    "# Test: integral de f(x)=1\n",
    "valores_y = np.ones_like(x) # Array [1,1,1....1] (del tamaño de x)\n",
    "integral_aprox = quad(valores_y, x )\n",
    "\n",
    "print(\" Intervalo [%.2f,%.2f], aproximación de la integral de f(x)=1:  %f\" \n",
    "     % (x[0], x[-1], integral_aprox))"
   ]
  },
  {
   "cell_type": "code",
   "execution_count": 90,
   "metadata": {},
   "outputs": [
    {
     "name": "stdout",
     "output_type": "stream",
     "text": [
      "Mean of u_infty: 0.2802452818146038\n",
      "||u(t_0) - u_infty|| =  0.4859180965609566 \n",
      "||u(t_1) - u_infty|| =  0.3936081284289104 \n",
      "||u(t_2) - u_infty|| =  0.3274962702323725 \n",
      "||u(t_3) - u_infty|| =  0.2761433282471052 \n",
      "||u(t_4) - u_infty|| =  0.2343811858294919 \n",
      "||u(t_5) - u_infty|| =  0.1995846490933039 \n"
     ]
    }
   ],
   "source": [
    "a, b = X0, X1\n",
    "u_infty = quad(u[0], x)/(b-a) # Media de u_0 en [a,b] \n",
    "\n",
    "print(\"Mean of u_infty: %.16f\" % (u_infty) )\n",
    "errores_L2 = []\n",
    "for i in range(0,NT):\n",
    "    error_L2_cuadrado = quad( (u[i]-u_infty)**2, x)\n",
    "    error_L2 = np.sqrt( error_L2_cuadrado )\n",
    "    print (\"||u(t_%i) - u_infty|| =  %.16f \" % (i, error_L2) )\n",
    "    errores_L2.append( error_L2 )\n",
    "    \n",
    "mpl.plot(range(NT), errores_L2, lw=3, label=\"||u(t_i) - u_infty||\")\n",
    "mpl.legend()\n",
    "mpl.grid()"
   ]
  },
  {
   "cell_type": "code",
   "execution_count": 68,
   "metadata": {},
   "outputs": [],
   "source": [
    "f = lambda x, t: np.zeros_like(x)\n",
    "x = linspace(-1, 1, 8)\n",
    "t = linspace(0, 1, 8)\n",
    "u_gauss = lambda x: np.exp(-C_gauss*(x**2))"
   ]
  },
  {
   "cell_type": "code",
   "execution_count": 69,
   "metadata": {},
   "outputs": [
    {
     "data": {
      "text/plain": [
       "array([0., 0., 0., 0., 0., 0., 0., 0.])"
      ]
     },
     "execution_count": 69,
     "metadata": {},
     "output_type": "execute_result"
    }
   ],
   "source": [
    "f(x,t[3])"
   ]
  },
  {
   "cell_type": "code",
   "execution_count": 71,
   "metadata": {},
   "outputs": [
    {
     "data": {
      "text/plain": [
       "array([0., 0., 0., 0., 0., 0., 0., 0.])"
      ]
     },
     "execution_count": 71,
     "metadata": {},
     "output_type": "execute_result"
    }
   ],
   "source": [
    "k=3\n",
    "vec=k*f(x,t[3])\n",
    "vec"
   ]
  },
  {
   "cell_type": "code",
   "execution_count": 72,
   "metadata": {},
   "outputs": [
    {
     "data": {
      "text/plain": [
       "array([4.53999298e-05, 6.08431691e-03, 1.59336861e-01, 8.15395806e-01,\n",
       "       8.15395806e-01, 1.59336861e-01, 6.08431691e-03, 4.53999298e-05])"
      ]
     },
     "execution_count": 72,
     "metadata": {},
     "output_type": "execute_result"
    }
   ],
   "source": [
    "U0=u_gauss(x)\n",
    "U0"
   ]
  },
  {
   "cell_type": "code",
   "execution_count": 73,
   "metadata": {},
   "outputs": [
    {
     "data": {
      "text/plain": [
       "array([4.53999298e-05, 6.08431691e-03, 1.59336861e-01, 8.15395806e-01,\n",
       "       8.15395806e-01, 1.59336861e-01, 6.08431691e-03, 4.53999298e-05])"
      ]
     },
     "execution_count": 73,
     "metadata": {},
     "output_type": "execute_result"
    }
   ],
   "source": [
    "w = U0 + vec\n",
    "w"
   ]
  },
  {
   "cell_type": "code",
   "execution_count": 75,
   "metadata": {},
   "outputs": [
    {
     "data": {
      "text/plain": [
       "array([4.53999298e-05, 6.08431691e-03, 1.59336861e-01, 8.15395806e-01,\n",
       "       8.15395806e-01, 1.59336861e-01, 6.08431691e-03, 4.53999298e-05])"
      ]
     },
     "execution_count": 75,
     "metadata": {},
     "output_type": "execute_result"
    }
   ],
   "source": [
    "v=U0\n",
    "v"
   ]
  },
  {
   "cell_type": "code",
   "execution_count": 77,
   "metadata": {},
   "outputs": [],
   "source": [
    "k2=2"
   ]
  },
  {
   "cell_type": "code",
   "execution_count": 79,
   "metadata": {},
   "outputs": [
    {
     "data": {
      "text/plain": [
       "array([-2.26999649e-04, -3.04215846e-02, -7.96684306e-01, -4.07697903e+00,\n",
       "       -4.07697903e+00, -7.96684306e-01, -3.04215846e-02, -2.26999649e-04])"
      ]
     },
     "execution_count": 79,
     "metadata": {},
     "output_type": "execute_result"
    }
   ],
   "source": [
    "F = k*f(x, t[3]) + U0 - k*k2*v\n",
    "F"
   ]
  },
  {
   "cell_type": "code",
   "execution_count": null,
   "metadata": {},
   "outputs": [],
   "source": []
  }
 ],
 "metadata": {
  "kernelspec": {
   "display_name": "Python 3",
   "language": "python",
   "name": "python3"
  },
  "language_info": {
   "codemirror_mode": {
    "name": "ipython",
    "version": 3
   },
   "file_extension": ".py",
   "mimetype": "text/x-python",
   "name": "python",
   "nbconvert_exporter": "python",
   "pygments_lexer": "ipython3",
   "version": "3.7.2"
  }
 },
 "nbformat": 4,
 "nbformat_minor": 2
}
