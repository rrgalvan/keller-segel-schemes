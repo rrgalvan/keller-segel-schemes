{
 "cells": [
  {
   "cell_type": "markdown",
   "metadata": {},
   "source": [
    "# Convection-Diffusion Equation 1D - Comprobación de que funciona bien\n",
    "\n",
    "# Case 6: Upwind with three points: Implicit\n",
    "\n",
    "We try to approximate the solution of\n",
    "\\begin{align}\n",
    "\\partial_t u - \\nu \\partial^2_{xx} u + \\beta \\partial_{x} u &= f \\quad\\text{in } \\Omega=(a,b) \\times (0,T),\n",
    "\\\\\n",
    "\\partial_t u \\cdot n &= 0\\quad\\text{on } \\partial\\Omega,\n",
    "\\end{align}\n",
    "where $(a,b)\\subset\\mathbb{R}$ is an interval, $T>0$ is a given final time and $f\\in C([a,b] \\times (0,T))$.\n",
    "\n",
    "En este caso el término convectivo va a ser $\\nabla \\cdot (u \\nabla v)$, es decir, $(u v_x)_x$. Así que, por un lado tenemos que aproximar numéricamente $v_x$ y por otro lado habría que aproximar numéricamente la derivada \"de fuera\". Vamos a usar esquemas progresivos en ambos (estamos aproximando sin tener ninguna evidencia teórica que apoye una elección o no).\n",
    "\n",
    "Llamemos $v_x \\sim \\beta_i^m$. Entonces el esquema aproximado quedará $(u \\beta_i^m)_x \\sim \\frac{u_{i+1}^m \\beta_{i+1}^m - u_i^m \\beta_i^m}{h}$ y donde $\\beta_i^m = \\frac{v_{i}^m - v_{i-1}^m}{h}$.\n",
    "\n",
    "Let us consider the mesh $x_i=a+h i$, for  $i=0,...,n+1$, with $h=(b-a)/(n+2)$, and the time partition $t_m = km$, $m=0,...,M$ whith $k=T/M$.\n",
    "\n",
    "We define the problem: given $u_{i,j}^{m-1}$, $m\\ge 1$, find $u_{i}^m \\simeq u(x_i, t_m)$ such that\n",
    "\n",
    "$$\n",
    "\\frac 1 k u_{i}^m \n",
    "- \\nu \\frac{ u_{i+1}^m - 2u_{i}^m + u_{i-1}^m}{h^2} + \\frac{\\beta_{i+1}^m u_{i+1}^m - \\beta_i^m u_i^m}{h}\n",
    "=\n",
    "f^m_{i} + \\frac 1 k u_{i}^{m-1},\n",
    "$$\n",
    "or\n",
    "$$\n",
    "\\Big(\\frac 1 k + \\frac{2\\nu}{h^2} - \\frac{\\beta_i^m}{h} \\Big) u_{i}^m \n",
    "- \\Big( \\frac{\\nu}{h^2} - \\frac{\\beta_{i+1}^m }{h} \\Big) u_{i+1}^m\n",
    "- \\frac{\\nu}{h^2} u_{i-1}^m\n",
    "=\n",
    "f^m_{i} + \\frac 1 k u_{i}^{m-1},\n",
    "$$\n",
    "or\n",
    "$$\n",
    "\\Big(1+ 2 \\frac {k\\nu}{h^2} - \\beta_i^m\n",
    "\\frac{k}{h} \\Big) u_{i}^m \n",
    "- \\Big( \\frac {k\\nu}{h^2} - \\beta_{i+1}^m \\frac{k}{h} \\Big) u_{i+1}^m\n",
    "- \\frac {k\\nu}{h^2} \\, u_{i-1}^m\n",
    "=\n",
    "k f^m_{i} + u_{i}^{m-1},\n",
    "$$\n",
    "\n",
    "It can be written as the system\n",
    "$AU=F$ with \n",
    "\n",
    "\\begin{aligned}\n",
    "U=( u^m_{1},u^m_{2},...,u^m_{n}),\n",
    "\\\\\n",
    "F_{i}=k f^m_{i} + u_{i}^{m-1}\n",
    "\\end{aligned}\n",
    "and\n",
    "$$\n",
    "A=\n",
    "\\begin{pmatrix}\n",
    "   a & -b &  0 &  0 & \\dots & & & 0 & 0 \\\\\n",
    "  -c &  a & -b &  0 & \\dots & & & 0 & 0\\\\\n",
    "   0 & -c &  a & -b & \\dots & & & 0 & 0 \\\\\n",
    "   \\vdots &    & \\ddots & \\ddots & \\ddots & \\\\\n",
    "   0 & 0 & \\dots & -c & a  & -b \\\\\n",
    "   0 & 0 &  0 & \\dots & -c & a  & -b \\\\\n",
    "     & & &&    & \\ddots & \\ddots & \\ddots & \\\\\n",
    "   0 & \\dots & &  & & & 0 & a & -b \\\\ \n",
    "   0 & \\dots & &  & & &  & -c & a \\\\\n",
    " \\end{pmatrix},\n",
    "$$\n",
    "siendo:\n",
    "\\begin{align*}\n",
    "  a&= 1 + 2\\frac {k\\nu}{h^2} - \\beta_i^m \\frac{k}{h}, \\\\\n",
    "  b&=\\frac {k\\nu}{h^2} - \\beta_{i+1}^m \\frac{k}{h}, \\\\\n",
    "  c&=\\frac {k\\nu}{h^2}.\n",
    "\\end{align*}\n",
    "El vector diagonal $(d,d,\\dots,d)$ está separado exactamente $n$\n",
    "posiciones desde la diagonal de la matriz."
   ]
  },
  {
   "cell_type": "markdown",
   "metadata": {},
   "source": [
    "#### Problema\n",
    "\n",
    "En este caso se nos presenta el problema que no podemos calcular el último elemento del vector $\\beta$ porque se saldría del vector $v$.\n",
    "\n",
    "En principio tenemos las siguientes soluciones para este problema:\n",
    "\n",
    "1. Darle un valor aproximado al último punto que sí tenemos calculado\n",
    "\n",
    "2. Tomar quizás una discretización en espacio de la concentración v con más puntos\n",
    "\n",
    "3. Tomar un esquema centrado"
   ]
  },
  {
   "cell_type": "markdown",
   "metadata": {},
   "source": [
    "#### Boundary conditions\n",
    "\n",
    "Let $\\Gamma_l=\\{a\\}$, $\\Gamma_r=\\{b\\}$. Homogeneous Neumann b.c. can be approximated as follows:\n",
    "\n",
    "* On $\\Gamma_l$: $\\partial_x u(a,t_m) \\cdot n = \\partial_x u(a,t_m) \\cdot (-1) = -\\partial_x   u(a,t_m) \\simeq -\\frac{u^m_{1}-u^m_{0}}{h}=0$,\n",
    "* On $\\Gamma_r$: $\\nabla u(b,y_j,t_m) \\times n = \\nabla u(b,y_j,t_m) \\times (1,0) = \\partial_x   u(b,y_j,t_m) \\simeq \\frac{u^m_{n+1,j}-u^m_{n,j}}{h}=0$,\n",
    "\n",
    "Then, boundary conditions can be approximated by defining, for each $m\\ge 1$, the values $u^m_{0,j}=u^m_{1,j}$, $u^m_{n+1,j}=u^m_{n,j}$, $u^m_{i,0}=u^m_{i,1}$, $u^m_{i,n+1}=u^m_{i,n}$, $i,j=0,\\dots,n+1$"
   ]
  },
  {
   "cell_type": "code",
   "execution_count": 1,
   "metadata": {},
   "outputs": [],
   "source": [
    "import numpy as np\n",
    "import matplotlib.pyplot as mpl\n",
    "from numpy import diag, ones, linspace, array, reshape\n",
    "from numpy.linalg import solve"
   ]
  },
  {
   "cell_type": "code",
   "execution_count": 2,
   "metadata": {},
   "outputs": [],
   "source": [
    "def convection_diffusion_equation_neumann_1d(f, u_init, v, nx_intervals, nt_intervals, \n",
    "                             a, b, T, nu, verbosity):\n",
    "    \"\"\"\n",
    "    Heat equatin with Homogeneous Neumann Boundary Conditions.\n",
    "    * f: RHS\n",
    "    * u_init: Initial function, u_init(x)\n",
    "    * nu: Viscosity coefficient\n",
    "    * a, b: interval (domain = (a,b))\n",
    "    * T: Max. time (time interval = (0,T))\n",
    "    * nx: space discretization, a=x_0,x_1,...,x_{nx}=b$\n",
    "    * nt: time discretization, 0=t_0,t_1,...,t_{nt}=T$\n",
    "    * v: vector with convective coefficient\n",
    "    \"\"\"\n",
    "    \n",
    "    # Space and time discretization\n",
    "    nx_points = nx = nx_intervals+1\n",
    "    h = (b-a)/nx_intervals # Space mesh size\n",
    "    x = linspace(a, b, nx_points) # a = x_0, ..., x_{nx} = b\n",
    "    \n",
    "    k = T/nt_intervals # Time step\n",
    "    t = linspace(0, T, nt_intervals+1) # 0 = t_0, t_1, ..., t_{nt} = T  \n",
    "\n",
    "    if(verbosity>1):\n",
    "        print(\"x=\",x)\n",
    "        print(\"t=\",t)\n",
    "        \n",
    "    def plus(x):\n",
    "        \"Parte positiva del array x (o número real x)\"\n",
    "        return (x+abs(x))/2 # x[i] if x[i]>0, else 0\n",
    "    def minus(x):\n",
    "        \"Parte negativa del array x (o número real x)\"\n",
    "        return (x-abs(x))/2 # x[i] if x[i]<0, else 0\n",
    "    # def val_abs(v):\n",
    "    #    \"Valor absoluto del array v\"\n",
    "    #    for i in range(1, len(v)+1):\n",
    "    #        v[i-1]=abs(v[i-1])\n",
    "    #    return v \n",
    "        \n",
    "    n=nx  # n_interior_x_points*n_interior_x_points\n",
    "    \n",
    "    c0 = (3*k)/(2*h)  # Diagonal coefficient a_{ii}\n",
    "    c01 = 1 + 2*(k*nu)/h**2 # Coeficiente sin beta de a_{ii}\n",
    "    c1 = (2*k)/h # Coeficiente de beta de u_{i-1,i}\n",
    "    c11 = -(k*nu)/h**2 # Coeficiente sin beta de u_{i-1,i}\n",
    "    c2 = -k/(2*h) # Coeficiente con beta de u_{i-2,i}\n",
    "    c3 = -2*k/h # Coeficiente con beta de u_{i+1,i}\n",
    "    c31 = -(k*nu)/h**2 # Coeficiente sin beta de u_{i+1,i}\n",
    "    c4 = k/(2*h) # Coeficiente con beta de u_{i+2,i}\n",
    "    \n",
    "    if(verbosity>0): \n",
    "        print(\"c0=\", c0)\n",
    "        print(\"c01=\", c01)\n",
    "        print(\"c1=\", c1)\n",
    "        print(\"c11=\", c11)\n",
    "        print(\"c2=\", c2)\n",
    "        print(\"c3=\", c3)\n",
    "        print(\"c31=\", c31)\n",
    "        print(\"c4=\", c4)\n",
    "    \n",
    "    # Matrix\n",
    "    w1 = ones(NX)\n",
    "    w2 = ones(NX)\n",
    "    w3 = ones(NX-1)\n",
    "    w4 = ones(NX-1)\n",
    "    \n",
    "    w1 = plus(v[0:-1])\n",
    "    w2 = minus(v[0:-1])\n",
    "    w3 = plus(v[0:-2])\n",
    "    w4 = minus(v[0:-2])\n",
    "    \n",
    "    if(verbosity>0): \n",
    "        print(\"w1=\", w1)\n",
    "    if(verbosity>0): \n",
    "        print(\"w2=\", w2)\n",
    "    if(verbosity>0): \n",
    "        print(\"w3=\", w3)\n",
    "    if(verbosity>0): \n",
    "        print(\"w4=\", w4)\n",
    "    \n",
    "    A = c0 * diag( abs(v) ) + c01 * diag(ones(n)) \\\n",
    "            +c1 * diag( w2, -1 ) + c11 * diag( ones(n-1), -1) \\\n",
    "            + c2 * diag( w4, -2 ) \\\n",
    "            + c3 * diag( w1, +1 ) + c31 * diag( ones(n-1), +1) \\\n",
    "            + c4 * diag( w3, +2 )\n",
    "    if(verbosity>0): \n",
    "        print(\"nx=%i (h=%2.2f), nt=%i (k=%2.2f), n=(nx+1)^2=%i\" % \n",
    "              (nx, h, nt_intervals, k, n) )\n",
    "        print(\"A=\\n\", A, \" \", end=\"\" )\n",
    "        print( np.shape(A) )\n",
    "    \n",
    "    # Set Neumann boundary c.\n",
    "    A[0,0] = A[-1,-1] = 1\n",
    "    A[0,1] = A[-1,-2] = -1\n",
    "    \n",
    "    # A[1,0] = -k/(h**2) + 2*minus(v[0])*(k/h)\n",
    "    # A[1,1] = 1 + (3*k)/(2*h)*abs(v[1]) + (2*k)/(h**2) - k/(2*h)*minus(v[1])\n",
    "    # A[1,2] = -k/(h**2) - (2*k)/h*plus(v[2])\n",
    "    # A[1,3] = k/(2*h)*minus(v[3])\n",
    "    \n",
    "    A[1,0] = -k/(h**2) + 2*w2[0]*(k/h)\n",
    "    A[1,1] = 1 + (3*k)/(2*h)*abs(v[1]) + (2*k)/(h**2) - k/(2*h)*minus(v[1])\n",
    "    A[1,2] = -k/(h**2) - (2*k)/h*w1[1]\n",
    "    A[1,3] = k/(2*h)*w3[1]\n",
    "    \n",
    "    \n",
    "    # A[-2,-1] = -k/(h**2) - 2*plus(v[n-1])*(k/h)\n",
    "    # A[-2,-2] = 1+(3*k)/(2*h)*abs(v[n-2]) + (2*k)/(h**2) + k/(2*h)*plus(v[n-2])\n",
    "    # A[-2,-3] = -k/(h**2) + 2*minus(v[n-2])*(k/h)\n",
    "    # A[-2,-4] = -k/(2*h)*minus(v[n-2])\n",
    "    \n",
    "    A[-2,-1] = -k/(h**2) - 2*w1[NX-1]*(k/h)\n",
    "    A[-2,-2] = 1+(3*k)/(2*h)*abs(v[n-2]) + (2*k)/(h**2) + k/(2*h)*plus(v[n-2])\n",
    "    A[-2,-3] = -k/(h**2) + 2*w2[NX-2]*(k/h)\n",
    "    A[-2,-4] = -1*k/(2*h)*w4[NX-3]\n",
    "    \n",
    "    A[0,2]=0\n",
    "    \n",
    "    if(verbosity>0): \n",
    "        print(\"nx=%i (h=%2.2f), nt=%i (k=%2.2f), n=(nx+1)^2=%i\" % \n",
    "              (nx, h, nt_intervals, k, n) )\n",
    "        print(\"A=\\n\", A, \" \", end=\"\" )\n",
    "        print( np.shape(A) )\n",
    "    \n",
    "    # Time iterations)\n",
    "   \n",
    "    U0 = u_init(x)\n",
    "    if(verbosity>0):        \n",
    "        print(\"U0 =\", U0, \" \", np.shape(U0) )    \n",
    "    solution = [ U0 ]\n",
    "\n",
    "    for m in range(1,nt_intervals+1):  # m=1, 1,..., nt\n",
    "        current_t = t[m]\n",
    "        if(verbosity>0):\n",
    "            print(\"m=%i, current_t=%.2f\" % (m,current_t))\n",
    "        \n",
    "        F = k*f(x, current_t) + U0\n",
    "        \n",
    "        # Set homogneous Neumann boundary c.\n",
    "        F[0] = F[-1] = 0\n",
    "      \n",
    "        if(verbosity>0):        \n",
    "            print(\"F=\", F, \" \", end=\"\" )\n",
    "            print( np.shape(F) )\n",
    "\n",
    "        # 3. Resolver sistema\n",
    "    \n",
    "        U = solve(A, F) \n",
    "        if(verbosity>0):        \n",
    "            print(\"U =\", U, \" \", np.shape(U) )\n",
    "            from numpy import linalg as LA\n",
    "            print(\"||U||_2 =\", LA.norm(U))\n",
    "        U0 = U\n",
    "        solution.append(U)\n",
    "        \n",
    "    return solution, x, t"
   ]
  },
  {
   "cell_type": "markdown",
   "metadata": {},
   "source": [
    "Define plotting function, RHS function f and initial condition\n",
    "\n",
    "We provide two initial conditions for testing:\n",
    "1. $u_0(x) = C$ (constant). The exact solution is $u(x,t)=u_0$ for all $t>0$.\n",
    "2. $u_0(x) \\ge 0$ is defined as a Gaussian (bell) function. Like for any initial condition, the function must converge (in $L^2$ norm) to a constant, $C_\\infty\\ge 0$, when $t\\to\\infty$. Specifically, it is not diffcult to show that\n",
    "$\n",
    "\\| u(t) - u_0 \\|_{L^2(\\Omega)} \\to 0\n",
    "$\n",
    "as $t\\to\\infty$, where $u_\\infty$ is the mean oif $u$ in $\\Omega$, i.e.\n",
    "$$\n",
    "u_\\infty= \\frac 1{|\\Omega|} \\int_\\Omega u_0(x) dx \\in\\mathbb R\n",
    "$$\n",
    "where $|\\Omega|$ is the meassure of $\\Omega$."
   ]
  },
  {
   "cell_type": "code",
   "execution_count": 3,
   "metadata": {},
   "outputs": [],
   "source": [
    "def my_plot(x, y, t_iter):\n",
    "    d = t_iter\n",
    "    l = \"$u(x,t_i),\\quad i=%i$\" % (t_iter)\n",
    "    mpl.plot(x, y, lw=2, dashes=(5, d), label=l)\n",
    "    \n",
    "mpl.rcParams['figure.dpi'] = 100\n",
    "\n",
    "# --------------------------------------------    \n",
    "f = lambda x, t: np.zeros_like(x)\n",
    "\n",
    "# Initial solution 1: u_0=cte (then u(x,t)=cte forall t>0)\n",
    "u_cte = lambda x: 5*np.ones_like(x)\n",
    "\n",
    "# Initial solution 2: u_0 = Gaussian function\n",
    "C_gauss = 10\n",
    "u_gauss = lambda x: np.exp(-C_gauss*(x**2))"
   ]
  },
  {
   "cell_type": "code",
   "execution_count": 16,
   "metadata": {},
   "outputs": [],
   "source": [
    "NT = 5\n",
    "NX = 50\n",
    "X0 = -1\n",
    "X1 = 1\n",
    "x = linspace(X0, X1, NX+1)\n",
    "vect = u_gauss(x)"
   ]
  },
  {
   "cell_type": "code",
   "execution_count": 17,
   "metadata": {},
   "outputs": [
    {
     "data": {
      "text/plain": [
       "<matplotlib.legend.Legend at 0x7f762ee080>"
      ]
     },
     "execution_count": 17,
     "metadata": {},
     "output_type": "execute_result"
    },
    {
     "data": {
      "image/png": "[encoded data removed]",
      "text/plain": [
       "<Figure size 600x400 with 1 Axes>"
      ]
     },
     "metadata": {
      "needs_background": "light"
     },
     "output_type": "display_data"
    }
   ],
   "source": [
    "u, x, t = convection_diffusion_equation_neumann_1d(f, u_init=u_gauss, v=vect, \n",
    "                                    nx_intervals=NX, nt_intervals=NT, \n",
    "                                    a=X0, b=X1, T=0.1, nu=1, verbosity=0)\n",
    "\n",
    "for i in range(NT+1):\n",
    "    my_plot(x, u[i], i)\n",
    "    #mpl.show()\n",
    "u_infty = quad(u[0], x)/(X1-X0) # Media de u_0 en [a,b]\n",
    "mpl.plot(x, u_infty*np.ones_like(x), \"-.\", label=\"$u_\\infty$\")\n",
    "mpl.grid()    \n",
    "mpl.legend()"
   ]
  },
  {
   "cell_type": "code",
   "execution_count": 6,
   "metadata": {},
   "outputs": [],
   "source": [
    "NT = 1\n",
    "NX = 4\n",
    "X0 = -2\n",
    "X1 = 2\n",
    "x = linspace(X0, X1, NX+1)\n",
    "u_cte = lambda x: 5*np.ones_like(x)\n",
    "f = lambda x, t: np.zeros_like(x)\n",
    "vect = u_cte(x)"
   ]
  },
  {
   "cell_type": "code",
   "execution_count": 7,
   "metadata": {},
   "outputs": [
    {
     "name": "stdout",
     "output_type": "stream",
     "text": [
      "c0= 1.5\n",
      "c01= 3.0\n",
      "c1= 2.0\n",
      "c11= -1.0\n",
      "c2= -0.5\n",
      "c3= -2.0\n",
      "c31= -1.0\n",
      "c4= 0.5\n",
      "w1= [5. 5. 5. 5.]\n",
      "w2= [0. 0. 0. 0.]\n",
      "w3= [5. 5. 5.]\n",
      "w4= [0. 0. 0.]\n",
      "nx=5 (h=1.00), nt=1 (k=1.00), n=(nx+1)^2=5\n",
      "A=\n",
      " [[ 10.5 -11.    2.5   0.    0. ]\n",
      " [ -1.   10.5 -11.    2.5   0. ]\n",
      " [  0.   -1.   10.5 -11.    2.5]\n",
      " [  0.    0.   -1.   10.5 -11. ]\n",
      " [  0.    0.    0.   -1.   10.5]]  (5, 5)\n",
      "nx=5 (h=1.00), nt=1 (k=1.00), n=(nx+1)^2=5\n",
      "A=\n",
      " [[  1.   -1.    0.    0.    0. ]\n",
      " [ -1.   10.5 -11.    2.5   0. ]\n",
      " [  0.   -1.   10.5 -11.    2.5]\n",
      " [  0.   -0.   -1.   13.  -11. ]\n",
      " [  0.    0.    0.   -1.    1. ]]  (5, 5)\n",
      "U0 = [5. 5. 5. 5. 5.]   (5,)\n",
      "m=1, current_t=1.00\n",
      "F= [0. 5. 5. 5. 0.]  (5,)\n",
      "U = [5. 5. 5. 5. 5.]   (5,)\n",
      "||U||_2 = 11.180339887498949\n"
     ]
    },
    {
     "ename": "NameError",
     "evalue": "name 'quad' is not defined",
     "output_type": "error",
     "traceback": [
      "\u001b[1;31m---------------------------------------------------------------------------\u001b[0m",
      "\u001b[1;31mNameError\u001b[0m                                 Traceback (most recent call last)",
      "\u001b[1;32m<ipython-input-7-92395717d31d>\u001b[0m in \u001b[0;36m<module>\u001b[1;34m\u001b[0m\n\u001b[0;32m      6\u001b[0m     \u001b[0mmy_plot\u001b[0m\u001b[1;33m(\u001b[0m\u001b[0mx\u001b[0m\u001b[1;33m,\u001b[0m \u001b[0mu\u001b[0m\u001b[1;33m[\u001b[0m\u001b[0mi\u001b[0m\u001b[1;33m]\u001b[0m\u001b[1;33m,\u001b[0m \u001b[0mi\u001b[0m\u001b[1;33m)\u001b[0m\u001b[1;33m\u001b[0m\u001b[1;33m\u001b[0m\u001b[0m\n\u001b[0;32m      7\u001b[0m     \u001b[1;31m#mpl.show()\u001b[0m\u001b[1;33m\u001b[0m\u001b[1;33m\u001b[0m\u001b[1;33m\u001b[0m\u001b[0m\n\u001b[1;32m----> 8\u001b[1;33m \u001b[0mu_infty\u001b[0m \u001b[1;33m=\u001b[0m \u001b[0mquad\u001b[0m\u001b[1;33m(\u001b[0m\u001b[0mu\u001b[0m\u001b[1;33m[\u001b[0m\u001b[1;36m0\u001b[0m\u001b[1;33m]\u001b[0m\u001b[1;33m,\u001b[0m \u001b[0mx\u001b[0m\u001b[1;33m)\u001b[0m\u001b[1;33m/\u001b[0m\u001b[1;33m(\u001b[0m\u001b[0mX1\u001b[0m\u001b[1;33m-\u001b[0m\u001b[0mX0\u001b[0m\u001b[1;33m)\u001b[0m \u001b[1;31m# Media de u_0 en [a,b]\u001b[0m\u001b[1;33m\u001b[0m\u001b[1;33m\u001b[0m\u001b[0m\n\u001b[0m\u001b[0;32m      9\u001b[0m \u001b[0mmpl\u001b[0m\u001b[1;33m.\u001b[0m\u001b[0mplot\u001b[0m\u001b[1;33m(\u001b[0m\u001b[0mx\u001b[0m\u001b[1;33m,\u001b[0m \u001b[0mu_infty\u001b[0m\u001b[1;33m*\u001b[0m\u001b[0mnp\u001b[0m\u001b[1;33m.\u001b[0m\u001b[0mones_like\u001b[0m\u001b[1;33m(\u001b[0m\u001b[0mx\u001b[0m\u001b[1;33m)\u001b[0m\u001b[1;33m,\u001b[0m \u001b[1;34m\"-.\"\u001b[0m\u001b[1;33m,\u001b[0m \u001b[0mlabel\u001b[0m\u001b[1;33m=\u001b[0m\u001b[1;34m\"$u_\\infty$\"\u001b[0m\u001b[1;33m)\u001b[0m\u001b[1;33m\u001b[0m\u001b[1;33m\u001b[0m\u001b[0m\n\u001b[0;32m     10\u001b[0m \u001b[0mmpl\u001b[0m\u001b[1;33m.\u001b[0m\u001b[0mgrid\u001b[0m\u001b[1;33m(\u001b[0m\u001b[1;33m)\u001b[0m\u001b[1;33m\u001b[0m\u001b[1;33m\u001b[0m\u001b[0m\n",
      "\u001b[1;31mNameError\u001b[0m: name 'quad' is not defined"
     ]
    },
    {
     "data": {
      "image/png": "[encoded data removed]",
      "text/plain": [
       "<Figure size 600x400 with 1 Axes>"
      ]
     },
     "metadata": {
      "needs_background": "light"
     },
     "output_type": "display_data"
    }
   ],
   "source": [
    "u, x, t = convection_diffusion_equation_neumann_1d(f, u_init=u_cte, v=vect, \n",
    "                                    nx_intervals=NX, nt_intervals=NT, \n",
    "                                    a=X0, b=X1, T=1, nu=1, verbosity=1)\n",
    "\n",
    "for i in range(NT+1):\n",
    "    my_plot(x, u[i], i)\n",
    "    #mpl.show()\n",
    "u_infty = quad(u[0], x)/(X1-X0) # Media de u_0 en [a,b]\n",
    "mpl.plot(x, u_infty*np.ones_like(x), \"-.\", label=\"$u_\\infty$\")\n",
    "mpl.grid()    \n",
    "mpl.legend()"
   ]
  },
  {
   "cell_type": "code",
   "execution_count": 8,
   "metadata": {},
   "outputs": [
    {
     "data": {
      "text/plain": [
       "[array([5., 5., 5., 5., 5.]), array([5., 5., 5., 5., 5.])]"
      ]
     },
     "execution_count": 8,
     "metadata": {},
     "output_type": "execute_result"
    }
   ],
   "source": [
    "u"
   ]
  },
  {
   "cell_type": "markdown",
   "metadata": {},
   "source": [
    "### Compruebo que $\\|u(i)-u_\\infty\\| \\to 0$"
   ]
  },
  {
   "cell_type": "code",
   "execution_count": 9,
   "metadata": {},
   "outputs": [
    {
     "name": "stdout",
     "output_type": "stream",
     "text": [
      " Intervalo [-2.00,2.00], aproximación de la integral de f(x)=1:  3.000000\n"
     ]
    }
   ],
   "source": [
    "def quad(y, x):\n",
    "    \"\"\"\n",
    "    Fórmula de cuadratura de los trapecios compuesta para aproximar la integral\n",
    "    de la función dada por los valores y_0, y_1, ..., y_{n-1} sobre los \n",
    "    nodos x_0, x_1,... x_{n-1}\n",
    "    \"\"\"\n",
    "    h = x[1]-x[0]\n",
    "    sum = np.sum(y[1:-2]) # f(x_1) + ... + f(x_{n-2})\n",
    "    return h*( y[0]/2 + sum + y[-1]/2 )\n",
    "\n",
    "# Test: integral de f(x)=1\n",
    "valores_y = np.ones_like(x) # Array [1,1,1....1] (del tamaño de x)\n",
    "integral_aprox = quad(valores_y, x )\n",
    "\n",
    "print(\" Intervalo [%.2f,%.2f], aproximación de la integral de f(x)=1:  %f\" \n",
    "     % (x[0], x[-1], integral_aprox))"
   ]
  },
  {
   "cell_type": "code",
   "execution_count": 10,
   "metadata": {},
   "outputs": [
    {
     "name": "stdout",
     "output_type": "stream",
     "text": [
      "Mean of u_infty: 3.7500000000000000\n",
      "||u(t_0) - u_infty|| =  2.1650635094610968 \n"
     ]
    },
    {
     "data": {
      "image/png": "[encoded data removed]",
      "text/plain": [
       "<Figure size 600x400 with 1 Axes>"
      ]
     },
     "metadata": {
      "needs_background": "light"
     },
     "output_type": "display_data"
    }
   ],
   "source": [
    "a, b = X0, X1\n",
    "u_infty = quad(u[0], x)/(b-a) # Media de u_0 en [a,b] \n",
    "\n",
    "print(\"Mean of u_infty: %.16f\" % (u_infty) )\n",
    "errores_L2 = []\n",
    "for i in range(0,NT):\n",
    "    error_L2_cuadrado = quad( (u[i]-u_infty)**2, x)\n",
    "    error_L2 = np.sqrt( error_L2_cuadrado )\n",
    "    print (\"||u(t_%i) - u_infty|| =  %.16f \" % (i, error_L2) )\n",
    "    errores_L2.append( error_L2 )\n",
    "    \n",
    "mpl.plot(range(NT), errores_L2, lw=3, label=\"||u(t_i) - u_infty||\")\n",
    "mpl.legend()\n",
    "mpl.grid()"
   ]
  },
  {
   "cell_type": "code",
   "execution_count": 11,
   "metadata": {},
   "outputs": [
    {
     "data": {
      "text/plain": [
       "array([-2.        , -1.55555556, -1.11111111, -0.66666667, -0.22222222,\n",
       "        0.22222222,  0.66666667,  1.11111111,  1.55555556,  2.        ])"
      ]
     },
     "execution_count": 11,
     "metadata": {},
     "output_type": "execute_result"
    }
   ],
   "source": [
    "p = lambda x: 2*x\n",
    "x = linspace(-1,1,10)\n",
    "p(x)"
   ]
  },
  {
   "cell_type": "code",
   "execution_count": 12,
   "metadata": {},
   "outputs": [
    {
     "data": {
      "text/plain": [
       "array([2.        , 1.55555556, 1.11111111, 0.66666667, 0.22222222,\n",
       "       0.22222222, 0.66666667, 1.11111111, 1.55555556, 2.        ])"
      ]
     },
     "execution_count": 12,
     "metadata": {},
     "output_type": "execute_result"
    }
   ],
   "source": [
    "abs(p(x))"
   ]
  },
  {
   "cell_type": "code",
   "execution_count": 13,
   "metadata": {},
   "outputs": [
    {
     "data": {
      "text/plain": [
       "array([1., 1., 1., 1.])"
      ]
     },
     "execution_count": 13,
     "metadata": {},
     "output_type": "execute_result"
    }
   ],
   "source": [
    "def plus(x):\n",
    "        \"Parte positiva del array x (o número real x)\"\n",
    "        return (x+abs(x))/2 # x[i] if x[i]>0, else 0\n",
    "def minus(x):\n",
    "    \"Parte negativa del array x (o número real x)\"\n",
    "    return (x-abs(x))/2 # x[i] if x[i]<0, else 0\n",
    "v = array([1,1,1,1,1])\n",
    "w1 = ones(5)\n",
    "w2 = ones(5)\n",
    "w3 = ones(4)\n",
    "w4 = ones(4)\n",
    "    \n",
    "w1 = plus(v[0:-1])\n",
    "w2 = minus(v[0:-1])\n",
    "w3 = plus(v[0:-2])\n",
    "w4 = minus(v[0:-2])\n",
    "w1"
   ]
  },
  {
   "cell_type": "code",
   "execution_count": 14,
   "metadata": {},
   "outputs": [
    {
     "data": {
      "text/plain": [
       "array([[5., 6., 0., 0., 0.],\n",
       "       [3., 5., 6., 0., 0.],\n",
       "       [4., 3., 5., 6., 0.],\n",
       "       [0., 4., 3., 5., 6.],\n",
       "       [0., 0., 4., 3., 5.]])"
      ]
     },
     "execution_count": 14,
     "metadata": {},
     "output_type": "execute_result"
    }
   ],
   "source": [
    "A = 3 * diag( abs(v) ) + 2 * diag(ones(5)) \\\n",
    "        +1 * diag( w1, -1 ) + 2 * diag( ones(5-1), -1) \\\n",
    "        + 4 * diag( w3, -2 ) \\\n",
    "        + 5 * diag( w2, +1 ) + 6 * diag( ones(5-1), +1) \\\n",
    "        + 7 * diag( w4, +2 )\n",
    "A"
   ]
  },
  {
   "cell_type": "code",
   "execution_count": 15,
   "metadata": {},
   "outputs": [
    {
     "data": {
      "text/plain": [
       "array([1., 1., 1., 1., 1.])"
      ]
     },
     "execution_count": 15,
     "metadata": {},
     "output_type": "execute_result"
    }
   ],
   "source": [
    "z = ones(5)\n",
    "z"
   ]
  },
  {
   "cell_type": "code",
   "execution_count": null,
   "metadata": {},
   "outputs": [],
   "source": []
  },
  {
   "cell_type": "code",
   "execution_count": null,
   "metadata": {},
   "outputs": [],
   "source": []
  },
  {
   "cell_type": "code",
   "execution_count": null,
   "metadata": {},
   "outputs": [],
   "source": []
  }
 ],
 "metadata": {
  "kernelspec": {
   "display_name": "Python 3",
   "language": "python",
   "name": "python3"
  },
  "language_info": {
   "codemirror_mode": {
    "name": "ipython",
    "version": 3
   },
   "file_extension": ".py",
   "mimetype": "text/x-python",
   "name": "python",
   "nbconvert_exporter": "python",
   "pygments_lexer": "ipython3",
   "version": "3.7.2"
  }
 },
 "nbformat": 4,
 "nbformat_minor": 2
}
