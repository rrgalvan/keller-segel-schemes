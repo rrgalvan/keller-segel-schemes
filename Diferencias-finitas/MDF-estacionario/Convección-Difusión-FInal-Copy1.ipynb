{
 "cells": [
  {
   "cell_type": "code",
   "execution_count": 31,
   "metadata": {},
   "outputs": [
    {
     "name": "stdout",
     "output_type": "stream",
     "text": [
      "Populating the interactive namespace from numpy and matplotlib\n"
     ]
    },
    {
     "name": "stderr",
     "output_type": "stream",
     "text": [
      "C:\\Users\\joal\\Documents\\Universidad-J\\2º\\Métodos Numéricos II\\WinPython-64bit-3.6.0.1Qt5\\python-3.6.0.amd64\\lib\\site-packages\\IPython\\core\\magics\\pylab.py:161: UserWarning: pylab import has clobbered these variables: ['f']\n",
      "`%matplotlib` prevents importing * from pylab and numpy\n",
      "  \"\\n`%matplotlib` prevents importing * from pylab and numpy\"\n"
     ]
    }
   ],
   "source": [
    "% pylab inline"
   ]
  },
  {
   "cell_type": "code",
   "execution_count": 32,
   "metadata": {
    "collapsed": true
   },
   "outputs": [],
   "source": [
    "import math"
   ]
  },
  {
   "cell_type": "code",
   "execution_count": 33,
   "metadata": {
    "collapsed": true
   },
   "outputs": [],
   "source": [
    "from numpy import diag, ones, linspace, array"
   ]
  },
  {
   "cell_type": "code",
   "execution_count": 34,
   "metadata": {},
   "outputs": [],
   "source": [
    "import ipywidgets"
   ]
  },
  {
   "cell_type": "markdown",
   "metadata": {},
   "source": [
    "Estamos considerando la ecuación de convección-difusión en $1$ dimensión:\n",
    "\n",
    "$$\n",
    "cu'(x) - D u''(x) = f(x)\n",
    "$$\n",
    "\n",
    "Para $x \\in [a,b]$, $u(a) = u_a$ y $u(b) = u_b$.\n",
    "\n",
    "Donde $c$ es el vector de transporte, el coeficiente de convección y $n$ es el número de nodos interiores."
   ]
  },
  {
   "cell_type": "code",
   "execution_count": 35,
   "metadata": {},
   "outputs": [],
   "source": [
    "def conv_difus_1d(f, c, D, ua, ub, n, a=0, b=1):\n",
    "    \n",
    "    h = (b - a)/(n + 1) \n",
    "    Pe = (c*h)/(2*D)\n",
    "# El tamaño del paso\n",
    "\n",
    "### 1. Matriz\n",
    "\n",
    "    c0 = 2+2*Pe # Coeficiente diagonal a_ii\n",
    "\n",
    "    c_minus = -(1+2*Pe) # Coeficiente debajo de la diagonal a_{i-1,i}\n",
    "    c_plus = -1 # Coeficiente encima de la diagonal a_{i+1,i}\n",
    "\n",
    "    A_h =  (c0*diag(ones(n)) + c_plus*diag(ones(n-1),+1) + c_minus*diag(ones(n-1),-1))\n",
    "\n",
    "### 2. Segundo miembro\n",
    "\n",
    "    f_h = []\n",
    "    x = linspace(0, 1, num=n+2) # x_0, ..., x_{n-1}\n",
    "    x_interior = x[1:n+1]\n",
    "\n",
    "    f_h = f(x_interior) # f_h es el vector resultante de aplicar f a cada elemento del vector x\n",
    "    f_h[0] += ua*(-1-2*Pe)\n",
    "    f_h[-1] += ub*(-1)\n",
    "\n",
    "### 3. Resolución del sistema\n",
    "    from numpy.linalg import solve\n",
    "    u_h = solve(A_h, f_h)\n",
    "\n",
    "# Concatenamos la solución con los datos en los extremos del intervalo \n",
    "\n",
    "    u = array( [ua] + list(u_h) + [ub] )\n",
    "\n",
    "# Devolvemos la partición x y la solución obtenida\n",
    "\n",
    "    return x, u"
   ]
  },
  {
   "cell_type": "code",
   "execution_count": 36,
   "metadata": {
    "collapsed": true
   },
   "outputs": [],
   "source": [
    "def solucion(c=0, n=21):\n",
    "    \"\"\"\n",
    "    Función que será usada por 'interact' para llamar a la función anterior 'conv_difus_1d'\n",
    "    \"\"\"\n",
    "    f = lambda x: 0 + 0*x\n",
    "    x_h, u_h = conv_difus_1d(f, c, 1, ua=0, ub=1, n=n)\n",
    "    U = lambda x: (exp(c/D)-1)**(-1)*(exp(c*x/D)-1)\n",
    "    \n",
    "    from matplotlib.pylab import plot, show, grid, legend\n",
    "    x = linspace(0, 1, 100)\n",
    "    plot(x, U(x), label = \"Solución exacta\", linewidth=3, color=\"blue\")\n",
    "    plot(x_h, u_h,\"--\", label = \"Solución aproximada\", linewidth=3, color=\"green\")\n",
    "    grid()\n",
    "    legend()\n",
    "    show()\n",
    "    "
   ]
  },
  {
   "cell_type": "code",
   "execution_count": 37,
   "metadata": {
    "collapsed": true
   },
   "outputs": [],
   "source": [
    "# Mostrar barras de desplazamiento para elegir los valores c y n"
   ]
  },
  {
   "cell_type": "code",
   "execution_count": 38,
   "metadata": {},
   "outputs": [
    {
     "name": "stderr",
     "output_type": "stream",
     "text": [
      "C:\\Users\\joal\\Documents\\Universidad-J\\2º\\Métodos Numéricos II\\WinPython-64bit-3.6.0.1Qt5\\python-3.6.0.amd64\\lib\\site-packages\\ipykernel\\__main__.py:7: RuntimeWarning: divide by zero encountered in double_scalars\n",
      "C:\\Users\\joal\\Documents\\Universidad-J\\2º\\Métodos Numéricos II\\WinPython-64bit-3.6.0.1Qt5\\python-3.6.0.amd64\\lib\\site-packages\\ipykernel\\__main__.py:7: RuntimeWarning: invalid value encountered in multiply\n"
     ]
    },
    {
     "data": {
      "image/png": "[encoded data removed]",
      "text/plain": [
       "<matplotlib.figure.Figure at 0x8e6ede1d0>"
      ]
     },
     "metadata": {},
     "output_type": "display_data"
    },
    {
     "data": {
      "text/plain": [
       "<function __main__.solucion>"
      ]
     },
     "execution_count": 38,
     "metadata": {},
     "output_type": "execute_result"
    }
   ],
   "source": [
    "ipywidgets.interact(solucion, c=(0,200,10), n=(1,81,2))"
   ]
  },
  {
   "cell_type": "code",
   "execution_count": 39,
   "metadata": {
    "collapsed": true
   },
   "outputs": [],
   "source": [
    "c=1;\n",
    "D=1;"
   ]
  },
  {
   "cell_type": "code",
   "execution_count": 40,
   "metadata": {
    "collapsed": true
   },
   "outputs": [],
   "source": [
    "def U(x): return (exp(c/D)-1)**(-1)*(exp(c*x/D)-1)"
   ]
  },
  {
   "cell_type": "code",
   "execution_count": 41,
   "metadata": {},
   "outputs": [
    {
     "data": {
      "image/png": "[encoded data removed]",
      "text/plain": [
       "<matplotlib.figure.Figure at 0x8e70c9278>"
      ]
     },
     "metadata": {},
     "output_type": "display_data"
    }
   ],
   "source": [
    "x = linspace(0, 1, 100);\n",
    "plot(x, U(x), label = \"Solución exacta\", linewidth=3, color=\"blue\")\n",
    "grid()\n",
    "legend()\n",
    "show()"
   ]
  },
  {
   "cell_type": "code",
   "execution_count": 53,
   "metadata": {},
   "outputs": [
    {
     "name": "stderr",
     "output_type": "stream",
     "text": [
      "C:\\Users\\joal\\Documents\\Universidad-J\\2º\\Métodos Numéricos II\\WinPython-64bit-3.6.0.1Qt5\\python-3.6.0.amd64\\lib\\site-packages\\numpy\\core\\numeric.py:190: VisibleDeprecationWarning: using a non-integer number instead of an integer will result in an error in the future\n",
      "  a = empty(shape, dtype, order)\n",
      "C:\\Users\\joal\\Documents\\Universidad-J\\2º\\Métodos Numéricos II\\WinPython-64bit-3.6.0.1Qt5\\python-3.6.0.amd64\\lib\\site-packages\\ipykernel\\__main__.py:20: VisibleDeprecationWarning: using a non-integer number instead of an integer will result in an error in the future\n"
     ]
    },
    {
     "data": {
      "image/png": "[encoded data removed]",
      "text/plain": [
       "<matplotlib.figure.Figure at 0x8e53da2b0>"
      ]
     },
     "metadata": {},
     "output_type": "display_data"
    }
   ],
   "source": [
    "f = lambda x: 0 + 0*x\n",
    "x_h, u_h = conv_difus_1d(f, 100, 1, ua=0, ub=1, n=47/3)\n",
    "x_j, u_j = conv_difus_1d(f, 100, 1, ua=0, ub=1, n=99)\n",
    "x_k, u_k = conv_difus_1d(f, 100, 1, ua=0, ub=1, n=97/3)\n",
    "x = linspace(0, 1, 100)\n",
    "c=100;\n",
    "D=1;\n",
    "def U(x): return (exp(c/D)-1)**(-1)*(exp(c*x/D)-1)\n",
    "plot(x, U(x), label = \"Solución exacta\", linewidth=3, color=\"blue\")\n",
    "plot(x_h, u_h,\"--\", label = \"Solución aproximada, h=3/50, Pe=3\", linewidth=2.5, color=\"green\")\n",
    "plot(x_j, u_j,\"--\", label = \"Solución aproximada, h=1/100, Pe=1/2\", linewidth=2.5, color=\"red\")\n",
    "plot(x_k, u_k,\"--\", label = \"Solución aproximada, h=12/100, Pe=6\", linewidth=2.5, color=\"magenta\")\n",
    "grid()\n",
    "legend()\n",
    "show()"
   ]
  },
  {
   "cell_type": "code",
   "execution_count": null,
   "metadata": {
    "collapsed": true
   },
   "outputs": [],
   "source": []
  },
  {
   "cell_type": "code",
   "execution_count": null,
   "metadata": {
    "collapsed": true
   },
   "outputs": [],
   "source": []
  }
 ],
 "metadata": {
  "kernelspec": {
   "display_name": "Python 3",
   "language": "python",
   "name": "python3"
  },
  "language_info": {
   "codemirror_mode": {
    "name": "ipython",
    "version": 2
   },
   "file_extension": ".py",
   "mimetype": "text/x-python",
   "name": "python",
   "nbconvert_exporter": "python",
   "pygments_lexer": "ipython2",
   "version": "2.7.15rc1"
  },
  "widgets": {
   "state": {
    "ccf1571379904f629fc48c63d06fe9ac": {
     "views": [
      {
       "cell_index": 8
      }
     ]
    }
   },
   "version": "1.2.0"
  }
 },
 "nbformat": 4,
 "nbformat_minor": 2
}
