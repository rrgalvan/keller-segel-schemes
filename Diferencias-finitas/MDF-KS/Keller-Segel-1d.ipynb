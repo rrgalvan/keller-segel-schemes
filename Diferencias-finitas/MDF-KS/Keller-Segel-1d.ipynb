{
 "cells": [
  {
   "cell_type": "markdown",
   "metadata": {},
   "source": [
    "# Keller - Segel 1 d Ejemplo 1"
   ]
  },
  {
   "cell_type": "markdown",
   "metadata": {},
   "source": [
    "Consideraremos un esquema implícito para el tiempo, unas diferencias regresivas para $\\nabla v$ y una progresiva para el término convectivo"
   ]
  },
  {
   "cell_type": "code",
   "execution_count": 2,
   "metadata": {},
   "outputs": [
    {
     "name": "stdout",
     "output_type": "stream",
     "text": [
      "Populating the interactive namespace from numpy and matplotlib\n"
     ]
    }
   ],
   "source": [
    "%pylab inline"
   ]
  },
  {
   "cell_type": "code",
   "execution_count": 3,
   "metadata": {},
   "outputs": [],
   "source": [
    "import math"
   ]
  },
  {
   "cell_type": "markdown",
   "metadata": {},
   "source": [
    "Consideremos la siguiente ecuación:\n",
    "\n",
    "$u_t = Du_{xx} - c \\nabla \\cdot (u v_x)$ para $0\\leq x \\leq L$ y $0 \\leq t \\leq T$\n",
    "\n",
    "$v_t = E v_{xx} - k_1 v + k_2 u$\n",
    "\n",
    "Con las condiciones de frontera:\n",
    "\n",
    "$u(0,t)=0$ y $u(L,t)=0$ para $0\\leq t \\leq T$\n",
    "\n",
    "Y con la condición inicial:\n",
    "\n",
    "$u(x,0)=f(x)$ para $0\\leq x \\leq L$"
   ]
  },
  {
   "cell_type": "markdown",
   "metadata": {},
   "source": [
    "Ahora cogeremos el número de nodos que tomaremos en cada intervalo. $Nx-1$ será el número de nodos interiores que tomaremos en el intervalo $[0,L]$ y $Nt-1$ será el número de nodos interiores que tomaremos en el intervalo $[0,T]$ (Es decir, si al final tendremos $Nt+1$ puntos contando los de los extremos en cada intervalo). "
   ]
  },
  {
   "cell_type": "markdown",
   "metadata": {},
   "source": [
    "A continuación, $a$ indica $\\alpha$. Para comenzar de forma sencilla vamos a considerar $\\alpha=1$."
   ]
  },
  {
   "cell_type": "code",
   "execution_count": 4,
   "metadata": {},
   "outputs": [],
   "source": [
    "from numpy import linspace, array"
   ]
  },
  {
   "cell_type": "code",
   "execution_count": 5,
   "metadata": {},
   "outputs": [],
   "source": [
    "import ipywidgets"
   ]
  },
  {
   "cell_type": "code",
   "execution_count": 6,
   "metadata": {},
   "outputs": [],
   "source": [
    "def implicit_1d(n, D2,k, h, k1, k2, v1, u1):\n",
    "    v=zeros(n+1)\n",
    "    r = D2*k/(h**2)\n",
    "    s1 = k*k1\n",
    "    s2 = k*k2\n",
    "    for i in range(1,n-1):\n",
    "        v[i]=r*v1[i+1]+(1-2*r-s1)*v1[i]+r*v1[i-1]+s2*u1[i]\n",
    "    v[0]=v[1]\n",
    "    v[n]=v[n-1]\n",
    "    return v"
   ]
  },
  {
   "cell_type": "code",
   "execution_count": 7,
   "metadata": {},
   "outputs": [],
   "source": [
    "def reg_prog_1d(n, m, D1, c, k, h, u1, v1):\n",
    "    u=zeros(n+1)\n",
    "    p1 = D1*k/(h**2)\n",
    "    p2 = c*k/(h**2)\n",
    "    for i in range(1, n-1):\n",
    "        u[i]=(1-2*p1)*u1[i]+p1*(u1[i+1]+u1[i-1])-p2*(u1[i+1]*v1[i+1]-u1[i+1]*v1[i]-u1[i]*v1[i]+u1[i]*v1[i-1])\n",
    "    u[0]=u[1]\n",
    "    u[n]=u[n-1]\n",
    "    return u    "
   ]
  },
  {
   "cell_type": "code",
   "execution_count": 8,
   "metadata": {},
   "outputs": [],
   "source": [
    "def ks_progres_1d(a, b, T1, T2, n, m, D1, D2, k1, k2, c, coef):\n",
    "    x = linspace(a, b, n+1)\n",
    "    h = x[1] - x[0]\n",
    "    t = linspace(T1, T2, m+1)\n",
    "    k = t[1] - t[0]\n",
    "    def u0(x):return exp(-coef*(x-(a+b)/2)) # Cambiar función\n",
    "    def v0(x): return exp(-coef*(x-(a+b)/2))\n",
    "    v=zeros(n+1)\n",
    "    v1=zeros(n+1)\n",
    "    u=zeros(n+1)\n",
    "    u1=zeros(n+1)\n",
    "\n",
    "    v1= v0(x)\n",
    "    u1=u0(x)\n",
    "\n",
    "    #for i in range(0, n+1):\n",
    "    #    v1[i]=v0(x[i])\n",
    "\n",
    "    #for i in range(0, n+1):\n",
    "    #    u1[i]=u0(x[i])\n",
    "\n",
    "    listu=[u1]\n",
    "    listv=[v1]\n",
    "\n",
    "    for j in range(0, m-1):\n",
    "        v = implicit_1d(n, D2,k, h, k1, k2, v1, u1)\n",
    "        listv.extend([v])\n",
    "        u = reg_prog_1d(n, m, D1, c, k, h, u1, v1)\n",
    "        listu.extend([u])\n",
    "        u1=u\n",
    "        v1=v\n",
    "        u=zeros(n+1)\n",
    "        v=zeros(n+1)\n",
    "    return x, listu, listv"
   ]
  },
  {
   "cell_type": "code",
   "execution_count": 23,
   "metadata": {},
   "outputs": [],
   "source": [
    "x_h, lista_u, lista_v = ks_progres_1d(0,1,0,1,15,17,1,1,0,0,0,2)"
   ]
  },
  {
   "cell_type": "code",
   "execution_count": 24,
   "metadata": {},
   "outputs": [
    {
     "data": {
      "text/plain": [
       "array([0.        , 0.06666667, 0.13333333, 0.2       , 0.26666667,\n",
       "       0.33333333, 0.4       , 0.46666667, 0.53333333, 0.6       ,\n",
       "       0.66666667, 0.73333333, 0.8       , 0.86666667, 0.93333333,\n",
       "       1.        ])"
      ]
     },
     "execution_count": 24,
     "metadata": {},
     "output_type": "execute_result"
    }
   ],
   "source": [
    "x_h"
   ]
  },
  {
   "cell_type": "code",
   "execution_count": 25,
   "metadata": {},
   "outputs": [],
   "source": [
    "from matplotlib.pylab import plot, show, grid, legend"
   ]
  },
  {
   "cell_type": "code",
   "execution_count": 26,
   "metadata": {},
   "outputs": [
    {
     "data": {
      "image/png": "[encoded data removed]",
      "text/plain": [
       "<Figure size 432x288 with 1 Axes>"
      ]
     },
     "metadata": {
      "needs_background": "light"
     },
     "output_type": "display_data"
    }
   ],
   "source": [
    "plot(x_h, lista_u[2],\"--\", label = \"Solución aproximada\", linewidth=3, color=\"green\")\n",
    "plot(x_h,lista_u[2],\"o\",c=\"r\",label=\"nodos\")\n",
    "grid()\n",
    "legend()\n",
    "show()"
   ]
  },
  {
   "cell_type": "code",
   "execution_count": 13,
   "metadata": {},
   "outputs": [
    {
     "data": {
      "image/png": "[encoded data removed]",
      "text/plain": [
       "<Figure size 432x288 with 1 Axes>"
      ]
     },
     "metadata": {
      "needs_background": "light"
     },
     "output_type": "display_data"
    }
   ],
   "source": [
    "plot(x_h, lista_v[2],\"--\", label = \"Solución aproximada\", linewidth=3, color=\"green\")\n",
    "plot(x_h,lista_v[2],\"o\",c=\"r\",label=\"nodos\")\n",
    "grid()\n",
    "legend()\n",
    "show()"
   ]
  },
  {
   "cell_type": "code",
   "execution_count": null,
   "metadata": {
    "collapsed": true
   },
   "outputs": [],
   "source": []
  }
 ],
 "metadata": {
  "kernelspec": {
   "display_name": "Python 3",
   "language": "python",
   "name": "python3"
  },
  "language_info": {
   "codemirror_mode": {
    "name": "ipython",
    "version": 3
   },
   "file_extension": ".py",
   "mimetype": "text/x-python",
   "name": "python",
   "nbconvert_exporter": "python",
   "pygments_lexer": "ipython3",
   "version": "3.7.2"
  }
 },
 "nbformat": 4,
 "nbformat_minor": 2
}
