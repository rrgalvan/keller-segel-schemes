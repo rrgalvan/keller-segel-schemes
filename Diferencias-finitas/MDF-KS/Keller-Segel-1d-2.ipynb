{
 "cells": [
  {
   "cell_type": "markdown",
   "metadata": {},
   "source": [
    "# Keller - Segel 1 d Ejemplo 2 (Sin fuente de calor)"
   ]
  },
  {
   "cell_type": "markdown",
   "metadata": {},
   "source": [
    "Consideraremos un esquema implícito para el tiempo, unas diferencias regresivas para $\\nabla v$ y una progresiva para el término convectivo"
   ]
  },
  {
   "cell_type": "code",
   "execution_count": 46,
   "metadata": {
    "collapsed": false
   },
   "outputs": [
    {
     "name": "stdout",
     "output_type": "stream",
     "text": [
      "Populating the interactive namespace from numpy and matplotlib\n"
     ]
    },
    {
     "name": "stderr",
     "output_type": "stream",
     "text": [
      "C:\\Users\\joal\\Documents\\Universidad-J\\2º\\Métodos Numéricos II\\WinPython-64bit-3.6.0.1Qt5\\python-3.6.0.amd64\\lib\\site-packages\\IPython\\core\\magics\\pylab.py:161: UserWarning: pylab import has clobbered these variables: ['f']\n",
      "`%matplotlib` prevents importing * from pylab and numpy\n",
      "  \"\\n`%matplotlib` prevents importing * from pylab and numpy\"\n"
     ]
    }
   ],
   "source": [
    "% pylab inline"
   ]
  },
  {
   "cell_type": "code",
   "execution_count": 47,
   "metadata": {
    "collapsed": true
   },
   "outputs": [],
   "source": [
    "import math"
   ]
  },
  {
   "cell_type": "markdown",
   "metadata": {},
   "source": [
    "Consideremos la siguiente ecuación:\n",
    "\n",
    "$u_t = Du_{xx} - c \\nabla \\cdot (u v_x)$ para $0\\leq x \\leq L$ y $0 \\leq t \\leq T$\n",
    "\n",
    "$v_t = E v_{xx} - k_1 v + k_2 u$\n",
    "\n",
    "Con las condiciones de frontera:\n",
    "\n",
    "$u(0,t)=0$ y $u(L,t)=0$ para $0\\leq t \\leq T$\n",
    "\n",
    "Y con la condición inicial:\n",
    "\n",
    "$u(x,0)=f(x)$ para $0\\leq x \\leq L$"
   ]
  },
  {
   "cell_type": "markdown",
   "metadata": {},
   "source": [
    "Ahora cogeremos el número de nodos que tomaremos en cada intervalo. $Nx-1$ será el número de nodos interiores que tomaremos en el intervalo $[0,L]$ y $Nt-1$ será el número de nodos interiores que tomaremos en el intervalo $[0,T]$ (Es decir, si al final tendremos $Nt+1$ puntos contando los de los extremos en cada intervalo). "
   ]
  },
  {
   "cell_type": "markdown",
   "metadata": {},
   "source": [
    "A continuación, $a$ indica $\\alpha$. Para comenzar de forma sencilla vamos a considerar $\\alpha=1$."
   ]
  },
  {
   "cell_type": "code",
   "execution_count": 48,
   "metadata": {
    "collapsed": true
   },
   "outputs": [],
   "source": [
    "from numpy import linspace, array"
   ]
  },
  {
   "cell_type": "code",
   "execution_count": 49,
   "metadata": {
    "collapsed": true
   },
   "outputs": [],
   "source": [
    "import ipywidgets"
   ]
  },
  {
   "cell_type": "code",
   "execution_count": 50,
   "metadata": {
    "collapsed": false
   },
   "outputs": [],
   "source": [
    "def implicit_1d(n, D2,k, h, k1, k2, v1, u1):\n",
    "    v=zeros(n+1)\n",
    "    r = D2*k/(h**2)\n",
    "    s1 = k*k1\n",
    "    s2 = k*k2\n",
    "    for i in range(1,n-1):\n",
    "        v[i]=r*v1[i+1]+(1-2*r-s1)*v1[i]+r*v1[i-1]+s2*u1[i]\n",
    "    v[0]=v[1]\n",
    "    v[n]=v[n-1]\n",
    "    return v"
   ]
  },
  {
   "cell_type": "code",
   "execution_count": 51,
   "metadata": {
    "collapsed": true
   },
   "outputs": [],
   "source": [
    "def reg_prog_1d(n, m, D1, c, k, h, u1, v1):\n",
    "    u=zeros(n+1)\n",
    "    p1 = D1*k/(4*h**2)\n",
    "    p2 = c*k/(h**2)\n",
    "    for i in range(1, n-1):\n",
    "        u[i]= u1[i]-p1*(3*(v1[i+1]-v1[i-1])*u1[i]-4*(v1[i]-v1[i-2])*u1[i-1] + (v1[i-1]-v1[i-3])*u1[i-2])+p2*(u1[i+1]-2*u1[i]+u1[i-1])\n",
    "    u[0]=u[1]\n",
    "    u[n]=u[n-1]\n",
    "    return u    "
   ]
  },
  {
   "cell_type": "code",
   "execution_count": 60,
   "metadata": {
    "collapsed": false
   },
   "outputs": [],
   "source": [
    "def ks_progres_1d(a, b, T1, T2, n, m, D1, D2, k1, k2, c):\n",
    "    x = linspace(a, b, n+1)\n",
    "    h = x[1] - x[0]\n",
    "    t = linspace(T1, T2, m+1)\n",
    "    k = t[1] - t[0]\n",
    "    def u0(x):return 840*exp(-84*x**2) # Cambiar función\n",
    "    def v0(x): return 420*exp(-42*x**2)\n",
    "    v=zeros(n+1)\n",
    "    v1=zeros(n+1)\n",
    "    u=zeros(n+1)\n",
    "    u1=zeros(n+1)\n",
    "\n",
    "    v1= v0(x)\n",
    "    u1=u0(x)\n",
    "\n",
    "    #for i in range(0, n+1):\n",
    "    #    v1[i]=v0(x[i])\n",
    "\n",
    "    #for i in range(0, n+1):\n",
    "    #    u1[i]=u0(x[i])\n",
    "\n",
    "    listu=[u1]\n",
    "    listv=[v1]\n",
    "\n",
    "    for j in range(0, m-1):\n",
    "        v = implicit_1d(n, D2,k, h, k1, k2, v1, u1)\n",
    "        listv.extend([v])\n",
    "        u = reg_prog_1d(n, m, D1, c, k, h, u1, v1)\n",
    "        listu.extend([u])\n",
    "        u1=u\n",
    "        v1=v\n",
    "        u=zeros(n+1)\n",
    "        v=zeros(n+1)\n",
    "    return x, t, listu, listv"
   ]
  },
  {
   "cell_type": "code",
   "execution_count": 65,
   "metadata": {
    "collapsed": false
   },
   "outputs": [
    {
     "name": "stderr",
     "output_type": "stream",
     "text": [
      "C:\\Users\\joal\\Documents\\Universidad-J\\2º\\Métodos Numéricos II\\WinPython-64bit-3.6.0.1Qt5\\python-3.6.0.amd64\\lib\\site-packages\\ipykernel\\__main__.py:6: RuntimeWarning: overflow encountered in double_scalars\n",
      "C:\\Users\\joal\\Documents\\Universidad-J\\2º\\Métodos Numéricos II\\WinPython-64bit-3.6.0.1Qt5\\python-3.6.0.amd64\\lib\\site-packages\\ipykernel\\__main__.py:6: RuntimeWarning: invalid value encountered in double_scalars\n",
      "C:\\Users\\joal\\Documents\\Universidad-J\\2º\\Métodos Numéricos II\\WinPython-64bit-3.6.0.1Qt5\\python-3.6.0.amd64\\lib\\site-packages\\ipykernel\\__main__.py:7: RuntimeWarning: invalid value encountered in double_scalars\n"
     ]
    }
   ],
   "source": [
    "x_h, t_h, lista_u, lista_v = ks_progres_1d(-1/2,1/2,0,1,51,10404,1,1,1,1,1)"
   ]
  },
  {
   "cell_type": "code",
   "execution_count": 66,
   "metadata": {
    "collapsed": false
   },
   "outputs": [
    {
     "data": {
      "text/plain": [
       "array([  0.00000000e+00,   9.61168781e-05,   1.92233756e-04, ...,\n",
       "         9.99807766e-01,   9.99903883e-01,   1.00000000e+00])"
      ]
     },
     "execution_count": 66,
     "metadata": {},
     "output_type": "execute_result"
    }
   ],
   "source": [
    "t_h"
   ]
  },
  {
   "cell_type": "code",
   "execution_count": 74,
   "metadata": {
    "collapsed": false
   },
   "outputs": [
    {
     "data": {
      "text/plain": [
       "0.00019223375624759708"
      ]
     },
     "execution_count": 74,
     "metadata": {},
     "output_type": "execute_result"
    }
   ],
   "source": [
    "t_h[2]"
   ]
  },
  {
   "cell_type": "code",
   "execution_count": 56,
   "metadata": {
    "collapsed": false
   },
   "outputs": [
    {
     "data": {
      "text/plain": [
       "array([-0.5       , -0.48039216, -0.46078431, -0.44117647, -0.42156863,\n",
       "       -0.40196078, -0.38235294, -0.3627451 , -0.34313725, -0.32352941,\n",
       "       -0.30392157, -0.28431373, -0.26470588, -0.24509804, -0.2254902 ,\n",
       "       -0.20588235, -0.18627451, -0.16666667, -0.14705882, -0.12745098,\n",
       "       -0.10784314, -0.08823529, -0.06862745, -0.04901961, -0.02941176,\n",
       "       -0.00980392,  0.00980392,  0.02941176,  0.04901961,  0.06862745,\n",
       "        0.08823529,  0.10784314,  0.12745098,  0.14705882,  0.16666667,\n",
       "        0.18627451,  0.20588235,  0.2254902 ,  0.24509804,  0.26470588,\n",
       "        0.28431373,  0.30392157,  0.32352941,  0.34313725,  0.3627451 ,\n",
       "        0.38235294,  0.40196078,  0.42156863,  0.44117647,  0.46078431,\n",
       "        0.48039216,  0.5       ])"
      ]
     },
     "execution_count": 56,
     "metadata": {},
     "output_type": "execute_result"
    }
   ],
   "source": [
    "x_h"
   ]
  },
  {
   "cell_type": "code",
   "execution_count": 57,
   "metadata": {
    "collapsed": true
   },
   "outputs": [],
   "source": [
    "from matplotlib.pylab import plot, show, grid, legend"
   ]
  },
  {
   "cell_type": "code",
   "execution_count": 82,
   "metadata": {
    "collapsed": false
   },
   "outputs": [
    {
     "data": {
      "image/png": "[encoded data removed]",
      "text/plain": [
       "<matplotlib.figure.Figure at 0x1d230c8710>"
      ]
     },
     "metadata": {},
     "output_type": "display_data"
    }
   ],
   "source": [
    "plot(x_h, lista_u[10],\"-\", label = \"Solución aproximada\", linewidth=3, color=\"blue\")\n",
    "#plot(x_h,lista_u[9],\"o\",c=\"r\",label=\"nodos\")\n",
    "grid()\n",
    "legend()\n",
    "show()"
   ]
  },
  {
   "cell_type": "code",
   "execution_count": 16,
   "metadata": {
    "collapsed": false
   },
   "outputs": [
    {
     "data": {
      "image/png": "[encoded data removed]",
      "text/plain": [
       "<matplotlib.figure.Figure at 0x1d21808d30>"
      ]
     },
     "metadata": {},
     "output_type": "display_data"
    }
   ],
   "source": [
    "plot(x_h, lista_v[2],\"--\", label = \"Solución aproximada\", linewidth=3, color=\"green\")\n",
    "plot(x_h,lista_v[2],\"o\",c=\"r\",label=\"nodos\")\n",
    "grid()\n",
    "legend()\n",
    "show()"
   ]
  },
  {
   "cell_type": "code",
   "execution_count": 84,
   "metadata": {
    "collapsed": true
   },
   "outputs": [],
   "source": [
    "def f(x, t): return exp(-2*t)*cos(2*x)"
   ]
  },
  {
   "cell_type": "code",
   "execution_count": 85,
   "metadata": {
    "collapsed": false
   },
   "outputs": [
    {
     "data": {
      "text/plain": [
       "-0.0076219951828865474"
      ]
     },
     "execution_count": 85,
     "metadata": {},
     "output_type": "execute_result"
    }
   ],
   "source": [
    "f(1,2)"
   ]
  },
  {
   "cell_type": "code",
   "execution_count": 86,
   "metadata": {
    "collapsed": false
   },
   "outputs": [
    {
     "data": {
      "text/plain": [
       "[<matplotlib.lines.Line2D at 0x1d21ac02b0>]"
      ]
     },
     "execution_count": 86,
     "metadata": {},
     "output_type": "execute_result"
    },
    {
     "data": {
      "image/png": "[encoded data removed]",
      "text/plain": [
       "<matplotlib.figure.Figure at 0x1d21ab6630>"
      ]
     },
     "metadata": {},
     "output_type": "display_data"
    }
   ],
   "source": [
    "plot(x_h, f(x_h, 1),\"-\", label = \"Solución aproximada\", linewidth=3, color=\"blue\")"
   ]
  },
  {
   "cell_type": "code",
   "execution_count": null,
   "metadata": {
    "collapsed": true
   },
   "outputs": [],
   "source": []
  }
 ],
 "metadata": {
  "kernelspec": {
   "display_name": "Python 3",
   "language": "python",
   "name": "python3"
  },
  "language_info": {
   "codemirror_mode": {
    "name": "ipython",
    "version": 3
   },
   "file_extension": ".py",
   "mimetype": "text/x-python",
   "name": "python",
   "nbconvert_exporter": "python",
   "pygments_lexer": "ipython3",
   "version": "3.6.0"
  }
 },
 "nbformat": 4,
 "nbformat_minor": 2
}
