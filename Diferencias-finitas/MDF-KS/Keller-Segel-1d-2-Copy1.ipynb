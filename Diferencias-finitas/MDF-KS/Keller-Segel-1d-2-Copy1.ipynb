{
 "cells": [
  {
   "cell_type": "markdown",
   "metadata": {},
   "source": [
    "# Keller - Segel 1 d Ejemplo 2 (Con fuente de calor)"
   ]
  },
  {
   "cell_type": "markdown",
   "metadata": {},
   "source": [
    "Consideraremos un esquema implícito para el tiempo, unas diferencias regresivas para $\\nabla v$ y una progresiva para el término convectivo"
   ]
  },
  {
   "cell_type": "code",
   "execution_count": 9,
   "metadata": {
    "collapsed": false
   },
   "outputs": [
    {
     "name": "stdout",
     "output_type": "stream",
     "text": [
      "Populating the interactive namespace from numpy and matplotlib\n"
     ]
    }
   ],
   "source": [
    "% pylab inline"
   ]
  },
  {
   "cell_type": "code",
   "execution_count": 10,
   "metadata": {
    "collapsed": true
   },
   "outputs": [],
   "source": [
    "import math"
   ]
  },
  {
   "cell_type": "markdown",
   "metadata": {},
   "source": [
    "Consideremos la siguiente ecuación:\n",
    "\n",
    "$u_t = Du_{xx} - c \\nabla \\cdot (u v_x)$ para $0\\leq x \\leq L$ y $0 \\leq t \\leq T$\n",
    "\n",
    "$v_t = E v_{xx} - k_1 v + k_2 u$\n",
    "\n",
    "Con las condiciones de frontera:\n",
    "\n",
    "$u(0,t)=0$ y $u(L,t)=0$ para $0\\leq t \\leq T$\n",
    "\n",
    "Y con la condición inicial:\n",
    "\n",
    "$u(x,0)=f(x)$ para $0\\leq x \\leq L$"
   ]
  },
  {
   "cell_type": "markdown",
   "metadata": {},
   "source": [
    "Ahora cogeremos el número de nodos que tomaremos en cada intervalo. $Nx-1$ será el número de nodos interiores que tomaremos en el intervalo $[0,L]$ y $Nt-1$ será el número de nodos interiores que tomaremos en el intervalo $[0,T]$ (Es decir, si al final tendremos $Nt+1$ puntos contando los de los extremos en cada intervalo). "
   ]
  },
  {
   "cell_type": "markdown",
   "metadata": {},
   "source": [
    "A continuación, $a$ indica $\\alpha$. Para comenzar de forma sencilla vamos a considerar $\\alpha=1$."
   ]
  },
  {
   "cell_type": "code",
   "execution_count": 11,
   "metadata": {
    "collapsed": true
   },
   "outputs": [],
   "source": [
    "from numpy import linspace, array"
   ]
  },
  {
   "cell_type": "code",
   "execution_count": 12,
   "metadata": {
    "collapsed": true
   },
   "outputs": [],
   "source": [
    "import ipywidgets"
   ]
  },
  {
   "cell_type": "code",
   "execution_count": 13,
   "metadata": {
    "collapsed": false
   },
   "outputs": [],
   "source": [
    "def implicit_1d(n, D2,k, h, k1, k2, v1, u1):\n",
    "    v=zeros(n+1)\n",
    "    r = D2*k/(h**2)\n",
    "    s1 = k*k1\n",
    "    s2 = k*k2\n",
    "    for i in range(1,n-1):\n",
    "        v[i]=r*v1[i+1]+(1-2*r-s1)*v1[i]+r*v1[i-1]+s2*u1[i]\n",
    "    v[0]=v[1]\n",
    "    v[n]=v[n-1]\n",
    "    return v"
   ]
  },
  {
   "cell_type": "code",
   "execution_count": 17,
   "metadata": {
    "collapsed": true
   },
   "outputs": [],
   "source": [
    "def reg_prog_1d(n, m, D1, c, k, h, u1, v1, x, t, j):\n",
    "    u=zeros(n+1)\n",
    "    p1 = D1*k/(4*h**2)\n",
    "    p2 = c*k/(h**2)\n",
    "    def f(x, t): return exp(-2*t)*cos(2*x)\n",
    "    for i in range(1, n-1):\n",
    "        u[i]= u1[i]-p1*(3*(v1[i+1]-v1[i-1])*u1[i]-4*(v1[i]-v1[i-2])*u1[i-1] + (v1[i-1]-v1[i-3])*u1[i-2])+p2*(u1[i+1]-2*u1[i]+u1[i-1])+k*f(x[i],t[j])\n",
    "    u[0]=u[1]\n",
    "    u[n]=u[n-1]\n",
    "    return u    "
   ]
  },
  {
   "cell_type": "code",
   "execution_count": 41,
   "metadata": {
    "collapsed": false
   },
   "outputs": [],
   "source": [
    "def ks_progres_1d(a, b, T1, T2, n, m, D1, D2, k1, k2, c, coef):\n",
    "    x = linspace(a, b, n+1)\n",
    "    h = x[1] - x[0]\n",
    "    t = linspace(T1, T2, m+1)\n",
    "    k = t[1] - t[0]\n",
    "    def u0(x):return exp(-coef*(x-(a+b)/2)) # Cambiar función\n",
    "    def v0(x): return exp(-coef*(x-(a+b)/2))\n",
    "    v=zeros(n+1)\n",
    "    v1=zeros(n+1)\n",
    "    u=zeros(n+1)\n",
    "    u1=zeros(n+1)\n",
    "\n",
    "    v1= v0(x)\n",
    "    u1=u0(x)\n",
    "\n",
    "    #for i in range(0, n+1):\n",
    "    #    v1[i]=v0(x[i])\n",
    "\n",
    "    #for i in range(0, n+1):\n",
    "    #    u1[i]=u0(x[i])\n",
    "\n",
    "    listu=[u1]\n",
    "    listv=[v1]\n",
    "\n",
    "    for j in range(0, m-1):\n",
    "        v = implicit_1d(n, D2,k, h, k1, k2, v1, u1)\n",
    "        listv.extend([v])\n",
    "        u = reg_prog_1d(n, m, D1, c, k, h, u1, v1, x, t, j)\n",
    "        listu.extend([u])\n",
    "        u1=u\n",
    "        v1=v\n",
    "        u=zeros(n+1)\n",
    "        v=zeros(n+1)\n",
    "    return x, t, listu, listv"
   ]
  },
  {
   "cell_type": "code",
   "execution_count": 42,
   "metadata": {
    "collapsed": false
   },
   "outputs": [
    {
     "name": "stderr",
     "output_type": "stream",
     "text": [
      "C:\\Users\\joal\\Documents\\Universidad-J\\2º\\Métodos Numéricos II\\WinPython-64bit-3.6.0.1Qt5\\python-3.6.0.amd64\\lib\\site-packages\\ipykernel\\__main__.py:7: RuntimeWarning: overflow encountered in double_scalars\n",
      "C:\\Users\\joal\\Documents\\Universidad-J\\2º\\Métodos Numéricos II\\WinPython-64bit-3.6.0.1Qt5\\python-3.6.0.amd64\\lib\\site-packages\\ipykernel\\__main__.py:7: RuntimeWarning: invalid value encountered in double_scalars\n"
     ]
    }
   ],
   "source": [
    "x_h, t_h, lista_u, lista_v = ks_progres_1d(0,2*pi,0,1,10,400,1,1,1,1,1,2)"
   ]
  },
  {
   "cell_type": "code",
   "execution_count": 43,
   "metadata": {
    "collapsed": false
   },
   "outputs": [
    {
     "data": {
      "text/plain": [
       "array([ 0.        ,  0.62831853,  1.25663706,  1.88495559,  2.51327412,\n",
       "        3.14159265,  3.76991118,  4.39822972,  5.02654825,  5.65486678,\n",
       "        6.28318531])"
      ]
     },
     "execution_count": 43,
     "metadata": {},
     "output_type": "execute_result"
    }
   ],
   "source": [
    "x_h"
   ]
  },
  {
   "cell_type": "code",
   "execution_count": 44,
   "metadata": {
    "collapsed": false
   },
   "outputs": [
    {
     "data": {
      "text/plain": [
       "array([ 0.    ,  0.0025,  0.005 ,  0.0075,  0.01  ,  0.0125,  0.015 ,\n",
       "        0.0175,  0.02  ,  0.0225,  0.025 ,  0.0275,  0.03  ,  0.0325,\n",
       "        0.035 ,  0.0375,  0.04  ,  0.0425,  0.045 ,  0.0475,  0.05  ,\n",
       "        0.0525,  0.055 ,  0.0575,  0.06  ,  0.0625,  0.065 ,  0.0675,\n",
       "        0.07  ,  0.0725,  0.075 ,  0.0775,  0.08  ,  0.0825,  0.085 ,\n",
       "        0.0875,  0.09  ,  0.0925,  0.095 ,  0.0975,  0.1   ,  0.1025,\n",
       "        0.105 ,  0.1075,  0.11  ,  0.1125,  0.115 ,  0.1175,  0.12  ,\n",
       "        0.1225,  0.125 ,  0.1275,  0.13  ,  0.1325,  0.135 ,  0.1375,\n",
       "        0.14  ,  0.1425,  0.145 ,  0.1475,  0.15  ,  0.1525,  0.155 ,\n",
       "        0.1575,  0.16  ,  0.1625,  0.165 ,  0.1675,  0.17  ,  0.1725,\n",
       "        0.175 ,  0.1775,  0.18  ,  0.1825,  0.185 ,  0.1875,  0.19  ,\n",
       "        0.1925,  0.195 ,  0.1975,  0.2   ,  0.2025,  0.205 ,  0.2075,\n",
       "        0.21  ,  0.2125,  0.215 ,  0.2175,  0.22  ,  0.2225,  0.225 ,\n",
       "        0.2275,  0.23  ,  0.2325,  0.235 ,  0.2375,  0.24  ,  0.2425,\n",
       "        0.245 ,  0.2475,  0.25  ,  0.2525,  0.255 ,  0.2575,  0.26  ,\n",
       "        0.2625,  0.265 ,  0.2675,  0.27  ,  0.2725,  0.275 ,  0.2775,\n",
       "        0.28  ,  0.2825,  0.285 ,  0.2875,  0.29  ,  0.2925,  0.295 ,\n",
       "        0.2975,  0.3   ,  0.3025,  0.305 ,  0.3075,  0.31  ,  0.3125,\n",
       "        0.315 ,  0.3175,  0.32  ,  0.3225,  0.325 ,  0.3275,  0.33  ,\n",
       "        0.3325,  0.335 ,  0.3375,  0.34  ,  0.3425,  0.345 ,  0.3475,\n",
       "        0.35  ,  0.3525,  0.355 ,  0.3575,  0.36  ,  0.3625,  0.365 ,\n",
       "        0.3675,  0.37  ,  0.3725,  0.375 ,  0.3775,  0.38  ,  0.3825,\n",
       "        0.385 ,  0.3875,  0.39  ,  0.3925,  0.395 ,  0.3975,  0.4   ,\n",
       "        0.4025,  0.405 ,  0.4075,  0.41  ,  0.4125,  0.415 ,  0.4175,\n",
       "        0.42  ,  0.4225,  0.425 ,  0.4275,  0.43  ,  0.4325,  0.435 ,\n",
       "        0.4375,  0.44  ,  0.4425,  0.445 ,  0.4475,  0.45  ,  0.4525,\n",
       "        0.455 ,  0.4575,  0.46  ,  0.4625,  0.465 ,  0.4675,  0.47  ,\n",
       "        0.4725,  0.475 ,  0.4775,  0.48  ,  0.4825,  0.485 ,  0.4875,\n",
       "        0.49  ,  0.4925,  0.495 ,  0.4975,  0.5   ,  0.5025,  0.505 ,\n",
       "        0.5075,  0.51  ,  0.5125,  0.515 ,  0.5175,  0.52  ,  0.5225,\n",
       "        0.525 ,  0.5275,  0.53  ,  0.5325,  0.535 ,  0.5375,  0.54  ,\n",
       "        0.5425,  0.545 ,  0.5475,  0.55  ,  0.5525,  0.555 ,  0.5575,\n",
       "        0.56  ,  0.5625,  0.565 ,  0.5675,  0.57  ,  0.5725,  0.575 ,\n",
       "        0.5775,  0.58  ,  0.5825,  0.585 ,  0.5875,  0.59  ,  0.5925,\n",
       "        0.595 ,  0.5975,  0.6   ,  0.6025,  0.605 ,  0.6075,  0.61  ,\n",
       "        0.6125,  0.615 ,  0.6175,  0.62  ,  0.6225,  0.625 ,  0.6275,\n",
       "        0.63  ,  0.6325,  0.635 ,  0.6375,  0.64  ,  0.6425,  0.645 ,\n",
       "        0.6475,  0.65  ,  0.6525,  0.655 ,  0.6575,  0.66  ,  0.6625,\n",
       "        0.665 ,  0.6675,  0.67  ,  0.6725,  0.675 ,  0.6775,  0.68  ,\n",
       "        0.6825,  0.685 ,  0.6875,  0.69  ,  0.6925,  0.695 ,  0.6975,\n",
       "        0.7   ,  0.7025,  0.705 ,  0.7075,  0.71  ,  0.7125,  0.715 ,\n",
       "        0.7175,  0.72  ,  0.7225,  0.725 ,  0.7275,  0.73  ,  0.7325,\n",
       "        0.735 ,  0.7375,  0.74  ,  0.7425,  0.745 ,  0.7475,  0.75  ,\n",
       "        0.7525,  0.755 ,  0.7575,  0.76  ,  0.7625,  0.765 ,  0.7675,\n",
       "        0.77  ,  0.7725,  0.775 ,  0.7775,  0.78  ,  0.7825,  0.785 ,\n",
       "        0.7875,  0.79  ,  0.7925,  0.795 ,  0.7975,  0.8   ,  0.8025,\n",
       "        0.805 ,  0.8075,  0.81  ,  0.8125,  0.815 ,  0.8175,  0.82  ,\n",
       "        0.8225,  0.825 ,  0.8275,  0.83  ,  0.8325,  0.835 ,  0.8375,\n",
       "        0.84  ,  0.8425,  0.845 ,  0.8475,  0.85  ,  0.8525,  0.855 ,\n",
       "        0.8575,  0.86  ,  0.8625,  0.865 ,  0.8675,  0.87  ,  0.8725,\n",
       "        0.875 ,  0.8775,  0.88  ,  0.8825,  0.885 ,  0.8875,  0.89  ,\n",
       "        0.8925,  0.895 ,  0.8975,  0.9   ,  0.9025,  0.905 ,  0.9075,\n",
       "        0.91  ,  0.9125,  0.915 ,  0.9175,  0.92  ,  0.9225,  0.925 ,\n",
       "        0.9275,  0.93  ,  0.9325,  0.935 ,  0.9375,  0.94  ,  0.9425,\n",
       "        0.945 ,  0.9475,  0.95  ,  0.9525,  0.955 ,  0.9575,  0.96  ,\n",
       "        0.9625,  0.965 ,  0.9675,  0.97  ,  0.9725,  0.975 ,  0.9775,\n",
       "        0.98  ,  0.9825,  0.985 ,  0.9875,  0.99  ,  0.9925,  0.995 ,\n",
       "        0.9975,  1.    ])"
      ]
     },
     "execution_count": 44,
     "metadata": {},
     "output_type": "execute_result"
    }
   ],
   "source": [
    "t_h"
   ]
  },
  {
   "cell_type": "code",
   "execution_count": 37,
   "metadata": {
    "collapsed": true
   },
   "outputs": [],
   "source": [
    "from matplotlib.pylab import plot, show, grid, legend"
   ]
  },
  {
   "cell_type": "code",
   "execution_count": 39,
   "metadata": {
    "collapsed": false
   },
   "outputs": [
    {
     "data": {
      "image/png": "[encoded data removed]",
      "text/plain": [
       "<matplotlib.figure.Figure at 0x68b498e160>"
      ]
     },
     "metadata": {},
     "output_type": "display_data"
    }
   ],
   "source": [
    "plot(x_h, lista_u[13],\"--\", label = \"Solución aproximada\", linewidth=3, color=\"green\")\n",
    "plot(x_h,lista_u[13],\"o\",c=\"r\",label=\"nodos\")\n",
    "grid()\n",
    "legend()\n",
    "show()"
   ]
  },
  {
   "cell_type": "code",
   "execution_count": 16,
   "metadata": {
    "collapsed": false
   },
   "outputs": [
    {
     "data": {
      "image/png": "[encoded data removed]",
      "text/plain": [
       "<matplotlib.figure.Figure at 0x1d21808d30>"
      ]
     },
     "metadata": {},
     "output_type": "display_data"
    }
   ],
   "source": [
    "plot(x_h, lista_v[2],\"--\", label = \"Solución aproximada\", linewidth=3, color=\"green\")\n",
    "plot(x_h,lista_v[2],\"o\",c=\"r\",label=\"nodos\")\n",
    "grid()\n",
    "legend()\n",
    "show()"
   ]
  },
  {
   "cell_type": "code",
   "execution_count": 40,
   "metadata": {
    "collapsed": true
   },
   "outputs": [],
   "source": [
    "def u(x,t):return exp(-t)*cos(x)"
   ]
  },
  {
   "cell_type": "code",
   "execution_count": 50,
   "metadata": {
    "collapsed": false
   },
   "outputs": [
    {
     "data": {
      "image/png": "[encoded data removed]",
      "text/plain": [
       "<matplotlib.figure.Figure at 0x68b47588d0>"
      ]
     },
     "metadata": {},
     "output_type": "display_data"
    }
   ],
   "source": [
    "plot(x_h, u(x_h, t_h[13]),\"-\", label = \"Solución exacta\", linewidth=2, color=\"blue\")\n",
    "plot(x_h, lista_u[13],\"--\", label = \"Solución aproximada\", linewidth=3, color=\"green\")\n",
    "grid()\n",
    "legend()\n",
    "show()"
   ]
  },
  {
   "cell_type": "code",
   "execution_count": 48,
   "metadata": {
    "collapsed": false
   },
   "outputs": [
    {
     "data": {
      "text/plain": [
       "[<matplotlib.lines.Line2D at 0x68b48b1ac8>]"
      ]
     },
     "execution_count": 48,
     "metadata": {},
     "output_type": "execute_result"
    },
    {
     "data": {
      "image/png": "[encoded data removed]",
      "text/plain": [
       "<matplotlib.figure.Figure at 0x68b48fc7b8>"
      ]
     },
     "metadata": {},
     "output_type": "display_data"
    }
   ],
   "source": [
    "plot(x_h, u(x_h, t_h[13]),\"-\", label = \"Solución aproximada\", linewidth=2, color=\"blue\")"
   ]
  },
  {
   "cell_type": "code",
   "execution_count": null,
   "metadata": {
    "collapsed": true
   },
   "outputs": [],
   "source": []
  }
 ],
 "metadata": {
  "kernelspec": {
   "display_name": "Python 3",
   "language": "python",
   "name": "python3"
  },
  "language_info": {
   "codemirror_mode": {
    "name": "ipython",
    "version": 3
   },
   "file_extension": ".py",
   "mimetype": "text/x-python",
   "name": "python",
   "nbconvert_exporter": "python",
   "pygments_lexer": "ipython3",
   "version": "3.6.0"
  }
 },
 "nbformat": 4,
 "nbformat_minor": 2
}
