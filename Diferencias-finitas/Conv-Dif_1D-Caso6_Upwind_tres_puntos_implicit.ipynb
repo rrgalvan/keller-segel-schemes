{
 "cells": [
  {
   "cell_type": "markdown",
   "metadata": {},
   "source": [
    "# Convection-Diffusion Equation 1D\n",
    "\n",
    "# Case 6: Upwind with three points: Implicit\n",
    "\n",
    "We try to approximate the solution of\n",
    "\\begin{align}\n",
    "\\partial_t u - \\nu \\partial^2_{xx} u + \\beta \\partial_{x} u &= f \\quad\\text{in } \\Omega=(a,b) \\times (0,T),\n",
    "\\\\\n",
    "\\partial_t u \\cdot n &= 0\\quad\\text{on } \\partial\\Omega,\n",
    "\\end{align}\n",
    "where $(a,b)\\subset\\mathbb{R}$ is an interval, $T>0$ is a given final time and $f\\in C([a,b] \\times (0,T))$.\n",
    "\n",
    "En este caso el término convectivo va a ser $\\nabla \\cdot (u \\nabla v)$, es decir, $(u v_x)_x$. Así que, por un lado tenemos que aproximar numéricamente $v_x$ y por otro lado habría que aproximar numéricamente la derivada \"de fuera\". Vamos a usar esquemas progresivos en ambos (estamos aproximando sin tener ninguna evidencia teórica que apoye una elección o no).\n",
    "\n",
    "Llamemos $v_x \\sim \\beta_i^m$. Entonces el esquema aproximado quedará $(u \\beta_i^m)_x \\sim \\frac{u_{i+1}^m \\beta_{i+1}^m - u_i^m \\beta_i^m}{h}$ y donde $\\beta_i^m = \\frac{v_{i}^m - v_{i-1}^m}{h}$.\n",
    "\n",
    "Let us consider the mesh $x_i=a+h i$, for  $i=0,...,n+1$, with $h=(b-a)/(n+2)$, and the time partition $t_m = km$, $m=0,...,M$ whith $k=T/M$.\n",
    "\n",
    "We define the problem: given $u_{i,j}^{m-1}$, $m\\ge 1$, find $u_{i}^m \\simeq u(x_i, t_m)$ such that\n",
    "\n",
    "$$\n",
    "\\frac 1 k u_{i}^m \n",
    "- \\nu \\frac{ u_{i+1}^m - 2u_{i}^m + u_{i-1}^m}{h^2} + \\frac{\\beta_{i+1}^m u_{i+1}^m - \\beta_i^m u_i^m}{h}\n",
    "=\n",
    "f^m_{i} + \\frac 1 k u_{i}^{m-1},\n",
    "$$\n",
    "or\n",
    "$$\n",
    "\\Big(\\frac 1 k + \\frac{2\\nu}{h^2} - \\frac{\\beta_i^m}{h} \\Big) u_{i}^m \n",
    "- \\Big( \\frac{\\nu}{h^2} - \\frac{\\beta_{i+1}^m }{h} \\Big) u_{i+1}^m\n",
    "- \\frac{\\nu}{h^2} u_{i-1}^m\n",
    "=\n",
    "f^m_{i} + \\frac 1 k u_{i}^{m-1},\n",
    "$$\n",
    "or\n",
    "$$\n",
    "\\Big(1+ 2 \\frac {k\\nu}{h^2} - \\beta_i^m\n",
    "\\frac{k}{h} \\Big) u_{i}^m \n",
    "- \\Big( \\frac {k\\nu}{h^2} - \\beta_{i+1}^m \\frac{k}{h} \\Big) u_{i+1}^m\n",
    "- \\frac {k\\nu}{h^2} \\, u_{i-1}^m\n",
    "=\n",
    "k f^m_{i} + u_{i}^{m-1},\n",
    "$$\n",
    "\n",
    "It can be written as the system\n",
    "$AU=F$ with \n",
    "\n",
    "\\begin{aligned}\n",
    "U=( u^m_{1},u^m_{2},...,u^m_{n}),\n",
    "\\\\\n",
    "F_{i}=k f^m_{i} + u_{i}^{m-1}\n",
    "\\end{aligned}\n",
    "and\n",
    "$$\n",
    "A=\n",
    "\\begin{pmatrix}\n",
    "   a & -b &  0 &  0 & \\dots & & & 0 & 0 \\\\\n",
    "  -c &  a & -b &  0 & \\dots & & & 0 & 0\\\\\n",
    "   0 & -c &  a & -b & \\dots & & & 0 & 0 \\\\\n",
    "   \\vdots &    & \\ddots & \\ddots & \\ddots & \\\\\n",
    "   0 & 0 & \\dots & -c & a  & -b \\\\\n",
    "   0 & 0 &  0 & \\dots & -c & a  & -b \\\\\n",
    "     & & &&    & \\ddots & \\ddots & \\ddots & \\\\\n",
    "   0 & \\dots & &  & & & 0 & a & -b \\\\ \n",
    "   0 & \\dots & &  & & &  & -c & a \\\\\n",
    " \\end{pmatrix},\n",
    "$$\n",
    "siendo:\n",
    "\\begin{align*}\n",
    "  a&= 1 + 2\\frac {k\\nu}{h^2} - \\beta_i^m \\frac{k}{h}, \\\\\n",
    "  b&=\\frac {k\\nu}{h^2} - \\beta_{i+1}^m \\frac{k}{h}, \\\\\n",
    "  c&=\\frac {k\\nu}{h^2}.\n",
    "\\end{align*}\n",
    "El vector diagonal $(d,d,\\dots,d)$ está separado exactamente $n$\n",
    "posiciones desde la diagonal de la matriz."
   ]
  },
  {
   "cell_type": "markdown",
   "metadata": {},
   "source": [
    "#### Problema\n",
    "\n",
    "En este caso se nos presenta el problema que no podemos calcular el último elemento del vector $\\beta$ porque se saldría del vector $v$.\n",
    "\n",
    "En principio tenemos las siguientes soluciones para este problema:\n",
    "\n",
    "1. Darle un valor aproximado al último punto que sí tenemos calculado\n",
    "\n",
    "2. Tomar quizás una discretización en espacio de la concentración v con más puntos\n",
    "\n",
    "3. Tomar un esquema centrado"
   ]
  },
  {
   "cell_type": "markdown",
   "metadata": {},
   "source": [
    "#### Boundary conditions\n",
    "\n",
    "Let $\\Gamma_l=\\{a\\}$, $\\Gamma_r=\\{b\\}$. Homogeneous Neumann b.c. can be approximated as follows:\n",
    "\n",
    "* On $\\Gamma_l$: $\\partial_x u(a,t_m) \\cdot n = \\partial_x u(a,t_m) \\cdot (-1) = -\\partial_x   u(a,t_m) \\simeq -\\frac{u^m_{1}-u^m_{0}}{h}=0$,\n",
    "* On $\\Gamma_r$: $\\nabla u(b,y_j,t_m) \\times n = \\nabla u(b,y_j,t_m) \\times (1,0) = \\partial_x   u(b,y_j,t_m) \\simeq \\frac{u^m_{n+1,j}-u^m_{n,j}}{h}=0$,\n",
    "\n",
    "Then, boundary conditions can be approximated by defining, for each $m\\ge 1$, the values $u^m_{0,j}=u^m_{1,j}$, $u^m_{n+1,j}=u^m_{n,j}$, $u^m_{i,0}=u^m_{i,1}$, $u^m_{i,n+1}=u^m_{i,n}$, $i,j=0,\\dots,n+1$"
   ]
  },
  {
   "cell_type": "code",
   "execution_count": 32,
   "metadata": {},
   "outputs": [],
   "source": [
    "import numpy as np\n",
    "import matplotlib.pyplot as mpl\n",
    "from numpy import diag, ones, linspace, array, reshape\n",
    "from numpy.linalg import solve"
   ]
  },
  {
   "cell_type": "code",
   "execution_count": 33,
   "metadata": {},
   "outputs": [],
   "source": [
    "def convection_diffusion_equation_neumann_1d(f, u_init, v, nx_intervals, nt_intervals, \n",
    "                             a, b, T, nu, verbosity):\n",
    "    \"\"\"\n",
    "    Heat equatin with Homogeneous Neumann Boundary Conditions.\n",
    "    * f: RHS\n",
    "    * u_init: Initial function, u_init(x)\n",
    "    * nu: Viscosity coefficient\n",
    "    * a, b: interval (domain = (a,b))\n",
    "    * T: Max. time (time interval = (0,T))\n",
    "    * nx: space discretization, a=x_0,x_1,...,x_{nx}=b$\n",
    "    * nt: time discretization, 0=t_0,t_1,...,t_{nt}=T$\n",
    "    * v: vector with convective coefficient\n",
    "    \"\"\"\n",
    "    \n",
    "    # Space and time discretization\n",
    "    nx_points = nx = nx_intervals+1\n",
    "    h = (b-a)/nx_intervals # Space mesh size\n",
    "    x = linspace(a, b, nx_points) # a = x_0, ..., x_{nx} = b\n",
    "    \n",
    "    k = T/nt_intervals # Time step\n",
    "    t = linspace(0, T, nt_intervals+1) # 0 = t_0, t_1, ..., t_{nt} = T  \n",
    "\n",
    "    if(verbosity>1):\n",
    "        print(\"x=\",x)\n",
    "        print(\"t=\",t)\n",
    "        \n",
    "    def plus(x):\n",
    "        \"Parte positiva del array x (o número real x)\"\n",
    "        return (x+abs(x))/2 # x[i] if x[i]>0, else 0\n",
    "    def minus(x):\n",
    "        \"Parte negativa del array x (o número real x)\"\n",
    "        return (x-abs(x))/2 # x[i] if x[i]<0, else 0\n",
    "    def val_abs(v):\n",
    "        \"Valor absoluto del array v\"\n",
    "        for i in range(1, len(v)+1):\n",
    "            v[i-1]=abs(v[i-1])\n",
    "        return v \n",
    "        \n",
    "    z=ones(NX+1)    # Hay problemas para rellenar el último elemento del vector. Lo tomaremos 0 por las condiciones Neumann\n",
    "    n=nx  # n_interior_x_points*n_interior_x_points\n",
    "    for i in range(1,n-1):\n",
    "        z[i] = (v[i+1]-v[i-1])/((X1-X0)/NX)\n",
    "    z[0] = 0\n",
    "    z[n-1] = 0   # Son las condiciones de Neumann homogéneas. Estos valores no son así, pero creo que después no se usan.\n",
    "    # z va a ser el vector de convección\n",
    "    \n",
    "    c0 = (3*k)/(2*h)  # Diagonal coefficient a_{ii}\n",
    "    c01 = 1 - 2*(k*nu)/h**2 # Coeficiente sin beta de a_{ii}\n",
    "    c1 = (2*k)/h # Coeficiente de beta de u_{i-1,i}\n",
    "    c11 = -(k*nu)/h**2 # Coeficiente sin beta de u_{i-1,i}\n",
    "    c2 = +k/(2*h) # Coeficiente con beta de u_{i-2,i}\n",
    "    c3 = 2*k/h # Coeficiente con beta de u_{i+1,i}\n",
    "    c31 = (k*nu)/h**2 # Coeficiente sin beta de u_{i+1,i}\n",
    "    c4 = -k/(2*h) # Coeficiente con beta de u_{i+2,i}\n",
    "    \n",
    "    # Matrix\n",
    "    w1 = ones(NX)\n",
    "    w2 = ones(NX)\n",
    "    w3 = ones(NX-1)\n",
    "    w4 = ones(NX-1)\n",
    "    \n",
    "    for i in range(1,NX+1): # Para generar el vector de u_{i-1,i}\n",
    "        w1[i-1]=plus(z)[i]\n",
    "        \n",
    "    for j in range(1,NX+1): # Para generar el vector de u_{i+1,i}\n",
    "        w2[i-1]=minus(z)[i] \n",
    "    \n",
    "    for i in range(2,NX+1): # Para generar el vector de u_{i-2,i}\n",
    "        w3[i-2]=plus(z)[i]\n",
    "        \n",
    "    for j in range(2,NX+1): # Para generar el vector de u_{i+2,i}\n",
    "        w4[i-2]=minus(z)[i] \n",
    "    \n",
    "    vec0 = val_abs(z)\n",
    "    vec01 = ones(n)\n",
    "    vec1 = w1\n",
    "    vec11 = ones(n-1)\n",
    "    vec2 = w3\n",
    "    vec3 = w2\n",
    "    vec31 = ones(n-1)\n",
    "    vec4 = w4\n",
    "    \n",
    "    A = c0 * diag( vec0 ) + c01 * diag(vec01) \\\n",
    "            +c1 * diag( vec1, -1 ) + c11 * diag( vec11, -1) \\\n",
    "            + c2 * diag( vec2, -2 ) \\\n",
    "            + c3 * diag( vec3, +1 ) + c31 * diag( vec31, +1) \\\n",
    "            + c4 * diag( vec4, -2 )\n",
    "    \n",
    "    # Set Neumann boundary c.\n",
    "    A[0,0] = A[-1,-1] = 1\n",
    "    A[0,1] = A[-1,-2] = -1\n",
    "    A[1,1] = 1 + (3*k)/(2*h)*abs(z[1]) - (2*k)/(h**2) + k/(2*h)*plus(z[1])\n",
    "    A[1,0] = k/(h**2) - (2*k)/h*plus(z[0])\n",
    "    A[1,2] = k/(h**2) + (2*k)/h*minus(z[2])\n",
    "    A[1,3] = -k/(2*h)*minus(z[3])\n",
    "    A[-2,-2] = 1+(3*k)/(2*h)*abs(z[n-2]) - (2*k)/(h**2) + k/(2*h)*minus(z[n-2])\n",
    "    A[-2,-3] = k/(h**2) - (2*k)/h*plus(z[n-3])\n",
    "    A[-2,-1] = k/(h**2) + (2*k)/h*minus(z[n-1])\n",
    "    A[-2,-4] = k/(2*h)*plus(z[n-4])\n",
    "    \n",
    "    if(verbosity>0): \n",
    "        print(\"nx=%i (h=%2.2f), nt=%i (k=%2.2f), n=(nx+1)^2=%i\" % \n",
    "              (nx, h, nt_intervals, k, n) )\n",
    "        print(\"A=\\n\", A, \" \", end=\"\" )\n",
    "        print( np.shape(A) )\n",
    "    \n",
    "    # Time iterations)\n",
    "   \n",
    "    U0 = u_init(x)\n",
    "    if(verbosity>0):        \n",
    "        print(\"U0 =\", U0, \" \", np.shape(U0) )    \n",
    "    solution = [ U0 ]\n",
    "\n",
    "    for m in range(1,nt_intervals+1):  # m=1, 1,..., nt\n",
    "        current_t = t[m]\n",
    "        if(verbosity>0):\n",
    "            print(\"m=%i, current_t=%.2f\" % (m,current_t))\n",
    "        \n",
    "        F = k*f(x, current_t) + U0\n",
    "        \n",
    "        # Set homogneous Neumann boundary c.\n",
    "        F[0] = F[-1] = 0\n",
    "      \n",
    "        if(verbosity>0):        \n",
    "            print(\"F=\", F, \" \", end=\"\" )\n",
    "            print( np.shape(F) )\n",
    "\n",
    "        # 3. Resolver sistema\n",
    "    \n",
    "        U = solve(A, F) \n",
    "        if(verbosity>0):        \n",
    "            print(\"U =\", U, \" \", np.shape(U) )\n",
    "            from numpy import linalg as LA\n",
    "            print(\"||U||_2 =\", LA.norm(U))\n",
    "        U0 = U\n",
    "        solution.append(U)\n",
    "        \n",
    "    return solution, x, t"
   ]
  },
  {
   "cell_type": "markdown",
   "metadata": {},
   "source": [
    "Define plotting function, RHS function f and initial condition\n",
    "\n",
    "We provide two initial conditions for testing:\n",
    "1. $u_0(x) = C$ (constant). The exact solution is $u(x,t)=u_0$ for all $t>0$.\n",
    "2. $u_0(x) \\ge 0$ is defined as a Gaussian (bell) function. Like for any initial condition, the function must converge (in $L^2$ norm) to a constant, $C_\\infty\\ge 0$, when $t\\to\\infty$. Specifically, it is not diffcult to show that\n",
    "$\n",
    "\\| u(t) - u_0 \\|_{L^2(\\Omega)} \\to 0\n",
    "$\n",
    "as $t\\to\\infty$, where $u_\\infty$ is the mean oif $u$ in $\\Omega$, i.e.\n",
    "$$\n",
    "u_\\infty= \\frac 1{|\\Omega|} \\int_\\Omega u_0(x) dx \\in\\mathbb R\n",
    "$$\n",
    "where $|\\Omega|$ is the meassure of $\\Omega$."
   ]
  },
  {
   "cell_type": "code",
   "execution_count": 34,
   "metadata": {},
   "outputs": [],
   "source": [
    "def my_plot(x, y, t_iter):\n",
    "    d = t_iter\n",
    "    l = \"$u(x,t_i),\\quad i=%i$\" % (t_iter)\n",
    "    mpl.plot(x, y, lw=2, dashes=(5, d), label=l)\n",
    "    \n",
    "mpl.rcParams['figure.dpi'] = 100\n",
    "\n",
    "# --------------------------------------------    \n",
    "f = lambda x, t: np.zeros_like(x)\n",
    "\n",
    "# Initial solution 1: u_0=cte (then u(x,t)=cte forall t>0)\n",
    "u_cte = lambda x: 5*np.ones_like(x)\n",
    "\n",
    "# Initial solution 2: u_0 = Gaussian function\n",
    "C_gauss = 10\n",
    "u_gauss = lambda x: np.exp(-C_gauss*(x**2))"
   ]
  },
  {
   "cell_type": "code",
   "execution_count": 35,
   "metadata": {},
   "outputs": [],
   "source": [
    "NT = 5\n",
    "NX = 50\n",
    "X0 = -1\n",
    "X1 = 1\n",
    "x = linspace(X0, X1, NX+1)\n",
    "vect = u_gauss(x)"
   ]
  },
  {
   "cell_type": "code",
   "execution_count": 36,
   "metadata": {},
   "outputs": [
    {
     "data": {
      "text/plain": [
       "<matplotlib.legend.Legend at 0xbb37ad7550>"
      ]
     },
     "execution_count": 36,
     "metadata": {},
     "output_type": "execute_result"
    },
    {
     "data": {
      "image/png": "[encoded data removed]",
      "text/plain": [
       "<Figure size 600x400 with 1 Axes>"
      ]
     },
     "metadata": {
      "needs_background": "light"
     },
     "output_type": "display_data"
    }
   ],
   "source": [
    "u, x, t = convection_diffusion_equation_neumann_1d(f, u_init=u_gauss, v=vect, \n",
    "                                    nx_intervals=NX, nt_intervals=NT, \n",
    "                                    a=X0, b=X1, T=0.1, nu=1, verbosity=0)\n",
    "\n",
    "for i in range(NT):\n",
    "    my_plot(x, u[i], i)\n",
    "    #mpl.show()\n",
    "u_infty = quad(u[0], x)/(X1-X0) # Media de u_0 en [a,b]\n",
    "mpl.plot(x, u_infty*np.ones_like(x), \"-.\", label=\"$u_\\infty$\")\n",
    "mpl.grid()    \n",
    "mpl.legend()"
   ]
  },
  {
   "cell_type": "markdown",
   "metadata": {},
   "source": [
    "### Compruebo que $\\|u(i)-u_\\infty\\| \\to 0$"
   ]
  },
  {
   "cell_type": "code",
   "execution_count": 37,
   "metadata": {},
   "outputs": [
    {
     "name": "stdout",
     "output_type": "stream",
     "text": [
      " Intervalo [-1.00,1.00], aproximación de la integral de f(x)=1:  1.960000\n"
     ]
    }
   ],
   "source": [
    "def quad(y, x):\n",
    "    \"\"\"\n",
    "    Fórmula de cuadratura de los trapecios compuesta para aproximar la integral\n",
    "    de la función dada por los valores y_0, y_1, ..., y_{n-1} sobre los \n",
    "    nodos x_0, x_1,... x_{n-1}\n",
    "    \"\"\"\n",
    "    h = x[1]-x[0]\n",
    "    sum = np.sum(y[1:-2]) # f(x_1) + ... + f(x_{n-2})\n",
    "    return h*( y[0]/2 + sum + y[-1]/2 )\n",
    "\n",
    "# Test: integral de f(x)=1\n",
    "valores_y = np.ones_like(x) # Array [1,1,1....1] (del tamaño de x)\n",
    "integral_aprox = quad(valores_y, x )\n",
    "\n",
    "print(\" Intervalo [%.2f,%.2f], aproximación de la integral de f(x)=1:  %f\" \n",
    "     % (x[0], x[-1], integral_aprox))"
   ]
  },
  {
   "cell_type": "code",
   "execution_count": 38,
   "metadata": {},
   "outputs": [
    {
     "name": "stdout",
     "output_type": "stream",
     "text": [
      "Mean of u_infty: 0.2802452818146038\n",
      "||u(t_0) - u_infty|| =  0.4859180965609566 \n",
      "||u(t_1) - u_infty|| =  0.4156999884575964 \n",
      "||u(t_2) - u_infty|| =  0.3910168015314831 \n",
      "||u(t_3) - u_infty|| =  0.3924248975128440 \n",
      "||u(t_4) - u_infty|| =  0.3923383200801835 \n"
     ]
    },
    {
     "data": {
      "image/png": "[encoded data removed]",
      "text/plain": [
       "<Figure size 600x400 with 1 Axes>"
      ]
     },
     "metadata": {
      "needs_background": "light"
     },
     "output_type": "display_data"
    }
   ],
   "source": [
    "a, b = X0, X1\n",
    "u_infty = quad(u[0], x)/(b-a) # Media de u_0 en [a,b] \n",
    "\n",
    "print(\"Mean of u_infty: %.16f\" % (u_infty) )\n",
    "errores_L2 = []\n",
    "for i in range(0,NT):\n",
    "    error_L2_cuadrado = quad( (u[i]-u_infty)**2, x)\n",
    "    error_L2 = np.sqrt( error_L2_cuadrado )\n",
    "    print (\"||u(t_%i) - u_infty|| =  %.16f \" % (i, error_L2) )\n",
    "    errores_L2.append( error_L2 )\n",
    "    \n",
    "mpl.plot(range(NT), errores_L2, lw=3, label=\"||u(t_i) - u_infty||\")\n",
    "mpl.legend()\n",
    "mpl.grid()"
   ]
  }
 ],
 "metadata": {
  "kernelspec": {
   "display_name": "Python 3",
   "language": "python",
   "name": "python3"
  },
  "language_info": {
   "codemirror_mode": {
    "name": "ipython",
    "version": 3
   },
   "file_extension": ".py",
   "mimetype": "text/x-python",
   "name": "python",
   "nbconvert_exporter": "python",
   "pygments_lexer": "ipython3",
   "version": "3.7.2"
  }
 },
 "nbformat": 4,
 "nbformat_minor": 2
}
