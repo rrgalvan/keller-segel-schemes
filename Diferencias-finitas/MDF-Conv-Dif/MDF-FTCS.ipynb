{
 "cells": [
  {
   "cell_type": "markdown",
   "metadata": {},
   "source": [
    "# Forward-Time, Centered Space Convección-Difusión"
   ]
  },
  {
   "cell_type": "code",
   "execution_count": 1,
   "metadata": {
    "collapsed": false
   },
   "outputs": [
    {
     "name": "stdout",
     "output_type": "stream",
     "text": [
      "Populating the interactive namespace from numpy and matplotlib\n"
     ]
    }
   ],
   "source": [
    "% pylab inline"
   ]
  },
  {
   "cell_type": "code",
   "execution_count": 2,
   "metadata": {
    "collapsed": true
   },
   "outputs": [],
   "source": [
    "import math"
   ]
  },
  {
   "cell_type": "markdown",
   "metadata": {},
   "source": [
    "Consideremos la siguiente ecuación parabólica:\n",
    "\n",
    "$u_t = D u_{xx} - c u_x$ para $0\\leq x \\leq L$ y $0 \\leq t \\leq T$\n",
    "\n",
    "Con las condiciones de frontera:\n",
    "\n",
    "$u(0,t)=0$ y $u(L,t)=0$ para $0\\leq t \\leq T$\n",
    "\n",
    "Y con la condición inicial:\n",
    "\n",
    "$u(x,0)=f(x)$ para $0\\leq x \\leq L$"
   ]
  },
  {
   "cell_type": "markdown",
   "metadata": {},
   "source": [
    "Ahora cogeremos el número de nodos que tomaremos en cada intervalo. $Nx-1$ será el número de nodos interiores que tomaremos en el intervalo $[0,L]$ y $Nt-1$ será el número de nodos interiores que tomaremos en el intervalo $[0,T]$ (Es decir, si al final tendremos $Nt+1$ puntos contando los de los extremos en cada intervalo). "
   ]
  },
  {
   "cell_type": "markdown",
   "metadata": {},
   "source": [
    "A continuación, $a$ indica $\\alpha$. Para comenzar de forma sencilla vamos a considerar $\\alpha=1$."
   ]
  },
  {
   "cell_type": "code",
   "execution_count": 3,
   "metadata": {
    "collapsed": true
   },
   "outputs": [],
   "source": [
    "from numpy import linspace, array"
   ]
  },
  {
   "cell_type": "code",
   "execution_count": 4,
   "metadata": {
    "collapsed": true
   },
   "outputs": [],
   "source": [
    "import ipywidgets"
   ]
  },
  {
   "cell_type": "code",
   "execution_count": 7,
   "metadata": {
    "collapsed": false
   },
   "outputs": [],
   "source": [
    "def conv_difusexp_1d(D, c, ua, ub, Nx, Nt, a, b, T1, T2):\n",
    "    x = linspace(a, b, Nx+1)    # creamos la partición en el espacio\n",
    "    dx = x[1] - x[0]            # paso del espacio\n",
    "    t = linspace(T1, T2, Nt+1)    # creamos la partición en el tiempo\n",
    "    dt = t[1] - t[0]             # paso del tiempo\n",
    "    s = D*dt/dx**2\n",
    "    k = c*dt/dx\n",
    "    u   = zeros(Nx+1)           # vector u desconocido en el siguiente nivel de tiempo\n",
    "    u_1 = zeros(Nx+1)           # vector u en el nivel de tiempo anterior\n",
    "    def I(x):return sin(pi*x)\n",
    "\n",
    "    u_1[Nx]=0\n",
    "\n",
    "    for i in range(0, Nx):\n",
    "        u_1[i] = I(x[i])\n",
    "    u_1[0] = u_1[Nx] = 0\n",
    "    \n",
    "    v = [u_1]\n",
    "\n",
    "    for n in range(0, Nt+1):\n",
    "        for i in range(1, Nx):\n",
    "            u[i] = s*u_1[i-1] + (1-2*s-k)*u_1[i]+(s-k)*u_1[i+1]\n",
    "        u[0] = 0\n",
    "        u[Nx] = 0\n",
    "        v.extend([u])\n",
    "        u_1 = u\n",
    "        u=zeros(Nx+1) \n",
    "    return x, t, v"
   ]
  },
  {
   "cell_type": "code",
   "execution_count": 16,
   "metadata": {
    "collapsed": false
   },
   "outputs": [
    {
     "data": {
      "text/plain": [
       "[array([ 0.        ,  0.30901699,  0.58778525,  0.80901699,  0.95105652,\n",
       "         1.        ,  0.95105652,  0.80901699,  0.58778525,  0.30901699,  0.        ]),\n",
       " array([ 0.        , -0.69927422, -1.33009861, -1.83072368, -2.15214476,\n",
       "        -2.26289891, -2.15214476, -1.83072368, -1.33009861, -0.69927422,  0.        ]),\n",
       " array([ 0.        ,  1.58238687,  3.0098787 ,  4.14274262,  4.87008603,\n",
       "         5.12071149,  4.87008603,  4.14274262,  3.0098787 ,  1.58238687,  0.        ]),\n",
       " array([  0.        ,  -3.58078154,  -6.81105123,  -9.37460778,\n",
       "        -11.0205124 , -11.58765248, -11.0205124 ,  -9.37460778,\n",
       "         -6.81105123,  -3.58078154,   0.        ]),\n",
       " array([  0.        ,   8.10294666,  15.41272044,  21.21378976,\n",
       "         24.93830552,  26.2216862 ,  24.93830553,  21.21378975,\n",
       "         15.41272044,   8.10294665,   0.        ])]"
      ]
     },
     "execution_count": 16,
     "metadata": {},
     "output_type": "execute_result"
    }
   ],
   "source": [
    "x_h, t_h, u_h = conv_difusexp_1d(1,0,0,0,10,3,0,1,0,1)\n",
    "x_h\n",
    "t_h\n",
    "u_h"
   ]
  },
  {
   "cell_type": "code",
   "execution_count": 18,
   "metadata": {
    "collapsed": false
   },
   "outputs": [
    {
     "data": {
      "text/plain": [
       "[<matplotlib.lines.Line2D at 0x2ac5b9908>]"
      ]
     },
     "execution_count": 18,
     "metadata": {},
     "output_type": "execute_result"
    },
    {
     "data": {
      "image/png": "[encoded data removed]",
      "text/plain": [
       "<matplotlib.figure.Figure at 0x2aacb7e10>"
      ]
     },
     "metadata": {},
     "output_type": "display_data"
    }
   ],
   "source": [
    "plot(x_h, u_h[3])"
   ]
  },
  {
   "cell_type": "code",
   "execution_count": 14,
   "metadata": {
    "collapsed": false
   },
   "outputs": [
    {
     "data": {
      "image/png": "[encoded data removed]",
      "text/plain": [
       "<matplotlib.figure.Figure at 0x1191ffb4e0>"
      ]
     },
     "metadata": {},
     "output_type": "display_data"
    }
   ],
   "source": [
    "for i in range(1,7):\n",
    "    plot(x_h, u_h[i])"
   ]
  },
  {
   "cell_type": "code",
   "execution_count": null,
   "metadata": {
    "collapsed": true
   },
   "outputs": [],
   "source": []
  }
 ],
 "metadata": {
  "kernelspec": {
   "display_name": "Python 3",
   "language": "python",
   "name": "python3"
  },
  "language_info": {
   "codemirror_mode": {
    "name": "ipython",
    "version": 3
   },
   "file_extension": ".py",
   "mimetype": "text/x-python",
   "name": "python",
   "nbconvert_exporter": "python",
   "pygments_lexer": "ipython3",
   "version": "3.6.0"
  }
 },
 "nbformat": 4,
 "nbformat_minor": 2
}
