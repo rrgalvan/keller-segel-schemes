{
 "cells": [
  {
   "cell_type": "markdown",
   "metadata": {},
   "source": [
    "\n",
    "# Esquema implícito de convección - difusión"
   ]
  },
  {
   "cell_type": "code",
   "execution_count": 1,
   "metadata": {
    "collapsed": false
   },
   "outputs": [
    {
     "name": "stdout",
     "output_type": "stream",
     "text": [
      "Populating the interactive namespace from numpy and matplotlib\n"
     ]
    }
   ],
   "source": [
    "% pylab inline"
   ]
  },
  {
   "cell_type": "code",
   "execution_count": 2,
   "metadata": {
    "collapsed": true
   },
   "outputs": [],
   "source": [
    "import math"
   ]
  },
  {
   "cell_type": "markdown",
   "metadata": {},
   "source": [
    "Consideremos la siguiente ecuación parabólica:\n",
    "\n",
    "$u_t = \\alpha u_{xx} + b u_x$ para $0\\leq x \\leq L$ y $0 \\leq t \\leq T$\n",
    "\n",
    "Con las condiciones de frontera:\n",
    "\n",
    "$u(0,t)=0$ y $u(L,t)=0$ para $0\\leq t \\leq T$\n",
    "\n",
    "Y con la condición inicial:\n",
    "\n",
    "$u(x,0)=f(x)$ para $0\\leq x \\leq L$"
   ]
  },
  {
   "cell_type": "markdown",
   "metadata": {},
   "source": [
    "Ahora cogeremos el número de nodos que tomaremos en cada intervalo. $Nx-1$ será el número de nodos interiores que tomaremos en el intervalo $[0,L]$ y $Nt-1$ será el número de nodos interiores que tomaremos en el intervalo $[0,T]$ (Es decir, si al final tendremos $Nt+1$ puntos contando los de los extremos en cada intervalo). "
   ]
  },
  {
   "cell_type": "markdown",
   "metadata": {},
   "source": [
    "A continuación, $a$ indica $\\alpha$. Para comenzar de forma sencilla vamos a considerar $\\alpha=1$."
   ]
  },
  {
   "cell_type": "code",
   "execution_count": 3,
   "metadata": {
    "collapsed": true
   },
   "outputs": [],
   "source": [
    "from numpy import linspace, array"
   ]
  },
  {
   "cell_type": "code",
   "execution_count": 4,
   "metadata": {
    "collapsed": true
   },
   "outputs": [],
   "source": [
    "import ipywidgets"
   ]
  },
  {
   "cell_type": "code",
   "execution_count": 27,
   "metadata": {
    "collapsed": false
   },
   "outputs": [],
   "source": [
    "def conv_difus_1d(D, c, ua, ub, Nx, Nt, a, b, T1, T2):\n",
    "    \n",
    "    x = linspace(a, b, Nx+1)   # creamos la partición en el espacio\n",
    "    dx = x[1] - x[0]           # paso del espacio\n",
    "    t = linspace(T1, T2, Nt+1)    # creamos la partición en el tiempo\n",
    "    dt = t[1] - t[0]            # paso del tiempo\n",
    "    s = D*dt/dx**2              \n",
    "    k = c*dt/dx\n",
    "    u   = zeros(Nx+1)          # vector u desconocido en el siguiente nivel de tiempo\n",
    "    u_1 = zeros(Nx+1)          # vector u en el nivel de tiempo anterior\n",
    "    def I(x):return sin(pi*x)\n",
    "\n",
    "# Creamos la matriz del esquema\n",
    "    A = zeros((Nx+1, Nx+1))\n",
    "\n",
    "    for i in range(1, Nx):\n",
    "        A[i,i-1] = -(s+k)\n",
    "        A[i,i+1] = -s\n",
    "        A[i,i] = 1 + 2*s + k\n",
    "    A[0,0] = A[Nx,Nx] = 1\n",
    "\n",
    "# Fijamos la condición inicial\n",
    "    \n",
    "    for i in range(0, Nx):\n",
    "        u_1[i] = I(x[i])\n",
    "    u_1[0] = u_1[Nx] = ua\n",
    "\n",
    "    v=[u_1]\n",
    "    from numpy.linalg import solve\n",
    "    for n in range(0, Nt+1):\n",
    "        u = solve(A, u_1)\n",
    "        v.extend([u])\n",
    "        u_1 = u\n",
    "    return x, t, v"
   ]
  },
  {
   "cell_type": "code",
   "execution_count": 28,
   "metadata": {
    "collapsed": false
   },
   "outputs": [
    {
     "data": {
      "text/plain": [
       "[array([ 0.        ,  0.43388374,  0.78183148,  0.97492791,  0.97492791,\n",
       "         0.78183148,  0.43388374,  0.        ]),\n",
       " array([  3.81639165e-16,   1.24699842e-01,   2.35664571e-01,\n",
       "          3.06750086e-01,   3.19809263e-01,   2.67885196e-01,\n",
       "          1.56099906e-01,   0.00000000e+00]),\n",
       " array([  4.86961661e-16,   3.85298336e-02,   7.37710711e-02,\n",
       "          9.75270263e-02,   1.03327398e-01,   8.78664070e-02,\n",
       "          5.18274393e-02,   0.00000000e+00]),\n",
       " array([  5.22585447e-16,   1.21915777e-02,   2.34372323e-02,\n",
       "          3.11533030e-02,   3.31988405e-02,   2.83806225e-02,\n",
       "          1.68041096e-02,   0.00000000e+00]),\n",
       " array([  5.34976329e-16,   3.88882880e-03,   7.48598529e-03,\n",
       "          9.96934301e-03,   1.06458376e-02,   9.11764734e-03,\n",
       "          5.40553454e-03,   0.00000000e+00]),\n",
       " array([  5.30562077e-16,   1.24388680e-03,   2.39557966e-03,\n",
       "          3.19237094e-03,   3.41146177e-03,   2.92364969e-03,\n",
       "          1.73410960e-03,   0.00000000e+00]),\n",
       " array([  5.30436233e-16,   3.98254051e-04,   7.67112482e-04,\n",
       "          1.02249485e-03,   1.09294450e-03,   9.36874976e-04,\n",
       "          5.55777697e-04,   0.00000000e+00])]"
      ]
     },
     "execution_count": 28,
     "metadata": {},
     "output_type": "execute_result"
    }
   ],
   "source": [
    "x_h, t_h, u_h = conv_difus_1d(1,1,0,0,7,5,0,1,0,1) \n",
    "x_h\n",
    "t_h\n",
    "u_h"
   ]
  },
  {
   "cell_type": "code",
   "execution_count": 13,
   "metadata": {
    "collapsed": false
   },
   "outputs": [
    {
     "data": {
      "text/plain": [
       "array([ 0. ,  0.2,  0.4,  0.6,  0.8,  1. ])"
      ]
     },
     "execution_count": 13,
     "metadata": {},
     "output_type": "execute_result"
    }
   ],
   "source": [
    "t_h"
   ]
  },
  {
   "cell_type": "code",
   "execution_count": 12,
   "metadata": {
    "collapsed": false
   },
   "outputs": [
    {
     "data": {
      "text/plain": [
       "[<matplotlib.lines.Line2D at 0xa9159e8ba8>]"
      ]
     },
     "execution_count": 12,
     "metadata": {},
     "output_type": "execute_result"
    },
    {
     "data": {
      "image/png": "[encoded data removed]",
      "text/plain": [
       "<matplotlib.figure.Figure at 0xa9179b3048>"
      ]
     },
     "metadata": {},
     "output_type": "display_data"
    }
   ],
   "source": [
    "plot(x_h, u_h[4])"
   ]
  },
  {
   "cell_type": "code",
   "execution_count": 24,
   "metadata": {
    "collapsed": true
   },
   "outputs": [],
   "source": [
    "def u(x,t):return (exp(-1)-1)**(-1)*(exp(-x)-1)*t+x-t"
   ]
  },
  {
   "cell_type": "code",
   "execution_count": 25,
   "metadata": {
    "collapsed": true
   },
   "outputs": [],
   "source": [
    "def U(x): return u(x,0.8)"
   ]
  },
  {
   "cell_type": "code",
   "execution_count": 26,
   "metadata": {
    "collapsed": false
   },
   "outputs": [
    {
     "data": {
      "text/plain": [
       "[<matplotlib.lines.Line2D at 0xa917ad7048>]"
      ]
     },
     "execution_count": 26,
     "metadata": {},
     "output_type": "execute_result"
    },
    {
     "data": {
      "image/png": "[encoded data removed]",
      "text/plain": [
       "<matplotlib.figure.Figure at 0xa915b81860>"
      ]
     },
     "metadata": {},
     "output_type": "display_data"
    }
   ],
   "source": [
    "x = linspace(0,1,100)\n",
    "plot( x, U(x))"
   ]
  },
  {
   "cell_type": "code",
   "execution_count": null,
   "metadata": {
    "collapsed": true
   },
   "outputs": [],
   "source": []
  }
 ],
 "metadata": {
  "kernelspec": {
   "display_name": "Python 3",
   "language": "python",
   "name": "python3"
  },
  "language_info": {
   "codemirror_mode": {
    "name": "ipython",
    "version": 3
   },
   "file_extension": ".py",
   "mimetype": "text/x-python",
   "name": "python",
   "nbconvert_exporter": "python",
   "pygments_lexer": "ipython3",
   "version": "3.6.0"
  }
 },
 "nbformat": 4,
 "nbformat_minor": 2
}
